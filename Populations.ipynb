{
 "cells": [
  {
   "cell_type": "markdown",
   "metadata": {},
   "source": [
    "Some $\\LaTeX$ commands:\n",
    "$$\n",
    "\\newcommand{\\dd}{\\mathrm{d}}\n",
    "\\newcommand{\\diff}[2]{\\frac{\\dd #1}{\\dd #2}}\n",
    "$$"
   ]
  },
  {
   "cell_type": "code",
   "execution_count": 182,
   "metadata": {},
   "outputs": [
    {
     "name": "stdout",
     "output_type": "stream",
     "text": [
      "Populating the interactive namespace from numpy and matplotlib\n"
     ]
    },
    {
     "name": "stderr",
     "output_type": "stream",
     "text": [
      "/Users/wfarr/anaconda3/lib/python3.7/site-packages/IPython/core/magics/pylab.py:160: UserWarning: pylab import has clobbered these variables: ['e']\n",
      "`%matplotlib` prevents importing * from pylab and numpy\n",
      "  \"\\n`%matplotlib` prevents importing * from pylab and numpy\"\n"
     ]
    }
   ],
   "source": [
    "%pylab inline\n",
    "%config InlineBackend.figure_format = 'retina'\n",
    "\n",
    "import sys\n",
    "\n",
    "d = '/Users/wfarr/Research/CBCPopulation/O2Populations/code'\n",
    "try:\n",
    "    sys.path.index(d)\n",
    "except ValueError:\n",
    "    sys.path.append(d)\n",
    "    \n",
    "import astropy.cosmology as cosmo\n",
    "from astropy.cosmology import Planck15\n",
    "import astropy.units as u\n",
    "import matplotlib.gridspec as gridspec\n",
    "import h5py\n",
    "from itertools import cycle\n",
    "from mpl_toolkits.axes_grid1 import make_axes_locatable\n",
    "import multiprocessing as multi\n",
    "import os\n",
    "import vt\n",
    "from scipy.integrate import cumtrapz\n",
    "from scipy.interpolate import interp1d, RectBivariateSpline\n",
    "from scipy.stats import gaussian_kde\n",
    "import seaborn as sns\n",
    "from tqdm import tqdm, tqdm_notebook\n",
    "\n",
    "sns.set_context('notebook')\n",
    "sns.set_style('ticks')\n",
    "sns.set_palette('colorblind')"
   ]
  },
  {
   "cell_type": "markdown",
   "metadata": {},
   "source": [
    "Some settings to make plots for publication:"
   ]
  },
  {
   "cell_type": "code",
   "execution_count": 211,
   "metadata": {},
   "outputs": [],
   "source": [
    "colwidth_pt = 242.26653\n",
    "pt_per_inch = 72.0\n",
    "colwidth = colwidth_pt / pt_per_inch"
   ]
  },
  {
   "cell_type": "markdown",
   "metadata": {},
   "source": [
    "This analysis is very similar to [Farr, et al. (2017)](https://ui.adsabs.harvard.edu/abs/2017Natur.548..426F/abstract), except that we are going to incorporate selection effects (since they are a strong function of mass).  For the latter, see [Mandel, Farr & Gair (2018)](https://ui.adsabs.harvard.edu/abs/2019MNRAS.tmp..870M/abstract) and references therein.\n",
    "\n",
    "We have a (collection of) zero-parameter model(s) that predict the mass distribution of merging black holes (and, eventually, the redshift distribution).  We wish to compare them to gravitational wave data, $\\mathbf{d}$, consisting of a catalog of detections, $i = 1, \\ldots, N_\\mathrm{det}$, each with data $d_i$; the catalog consists of events that pass a selection / detection threshold, which is why we need to incorporate selection effects.  The Bayseian posterior probability of model $M$ in this case is given by \n",
    "$$\n",
    "p\\left( M \\mid \\mathbf{d} \\right) \\propto p\\left( \\mathbf{d} \\mid M \\right) p\\left( M \\right).\n",
    "$$\n",
    "$p\\left( \\mathbf{d} \\mid M \\right)$ is sometimes known as the \"Bayes factor;\" it is the *likelihood* of model $M$ given the observed data.  $p(M)$ is the prior probability of model $M$, which we are free to assign based on our experience and intuition; in the absence of any good reason to do otherwise, it is common to take $p(M) \\propto \\mathrm{const}$.  (An example of a good reason to deviate from this might be if you produced a very large number of models with physically similar setups, and only a single model with an outlier setup---say 100 models of \"field\" binary formation with differing parameters and a single \"cluster\" model---then you might want to weight the two *classes* equally, and then each model w/i class equally.)\n",
    "\n",
    "To compute $p\\left( \\mathbf{d} \\mid M \\right)$, we usually assume that the likelihoods of the individual events are independent (this is appropriate as long as the noise surrounding each event is independent, which is what we see in LIGO).  Under this assumption,\n",
    "$$\n",
    "p\\left( \\mathbf{d} \\mid M \\right) = \\prod_{i=1}^{N_\\mathrm{det}} p\\left( d_i \\mid M \\right).\n",
    "$$\n",
    "Each model makes predictions about the masses of the merging binaries (we are, for the moment, ignoring the merger redshifts/lookback times that are predicted and instead imposing a fixed merger rate distribution, though we can incorporate them later).  The GW likelihood depends on these masses, so we have \n",
    "$$\n",
    "p\\left( d_i \\mid M \\right) = \\frac{\\int \\, \\dd m_1 \\, \\dd m_2 \\, \\dd z \\, p\\left( d_i \\mid m_1, m_2 \\right) p\\left( m_1, m_2 \\mid M \\right)}{\\int \\, \\dd m_1 \\, \\dd m_2 \\, \\dd z \\, P_\\mathrm{det}\\left( m_1, m_2, z \\right) p\\left( m_1, m_2 \\mid M \\right) p\\left( z \\mid M \\right)};\n",
    "$$\n",
    "here the numerator is the likelihood of the LIGO data given the masses predicted by the model $M$, and the denominator is the correction for the selection function and gives the average detectability (fraction of detected events) for the model population.\n",
    "\n",
    "The denominator is independent of the data, $d_i$, and common to all events.  It can be pre-computed, most easily via Monte-Carlo: we will assign a redshift randomly to your set of events, calculate $P_\\mathrm{det}$ following [Abbott, et al. (2016)](https://ui.adsabs.harvard.edu/abs/2016ApJS..227...14A/abstract), and average.\n",
    "\n",
    "The numerator can also be computed via Monte-Carlo using parameter estimation samples from [Abbott, et al. (2018)](https://ui.adsabs.harvard.edu/abs/2018arXiv181112907T/abstract).  Those are drawn from a posterior density that incorporates the likelihood and a prior, $p_\\mathrm{PE}\\left( m_1, m_2, z \\right)$:\n",
    "$$\n",
    "m_1, m_2, z \\sim p\\left( d_i \\mid m_1, m_2, z \\right) p_\\mathrm{PE} \\left( m_1, m_2, z \\right),\n",
    "$$\n",
    "so the likelihood integral that we need can be computed via \n",
    "$$\n",
    "\\int \\, \\dd m_1 \\, \\dd m_2 \\, \\dd z \\, p\\left( d_i \\mid m_1, m_2, z \\right) p\\left( m_1, m_2, z \\mid M \\right) = \\int \\, \\dd m_1 \\, \\dd m_2 \\, \\dd z \\, p\\left( d_i \\mid m_1, m_2, z \\right) p_\\mathrm{PE}\\left( m_1, m_2, z \\right) \\frac{p\\left( m_1, m_2, z \\mid M \\right)}{p_\\mathrm{PE}\\left( m_1, m_2, z \\right)} \\propto \\left\\langle \\frac{p\\left( m_1, m_2, z \\mid M \\right)}{p_\\mathrm{PE}\\left( m_1, m_2, z \\right)} \\right\\rangle,\n",
    "$$\n",
    "where the final average is taken over the PE samples.  The PE prior is uniform in the *detector-frame* masses and proportional to $d_L^2$, so in *source-frame* masses and redshift, it is \n",
    "$$\n",
    "p_\\mathrm{PE} \\left( m_1, m_2, z \\right) \\propto \\left( 1 + z \\right)^2 d_L^2 \\diff{d_L}{z}\n",
    "$$\n",
    "\n",
    "The final choice is in how we compute $p\\left( m_1 , m_2 , z \\mid M \\right)$.  The redshift distribution we are imposing is analytic, with \n",
    "$$\n",
    "p\\left( z \\right) \\propto \\diff{V}{z} \\left( 1 + z \\right)^{\\lambda - 1},\n",
    "$$\n",
    "with $\\lambda = 0$ giving constant merger rate in the comoving frame and $\\lambda \\simeq 3$ tracking the star formation rate.  For the mass distribution, I implement a KDE in a unconstrained parameter space, $(x,y)$, defined by \n",
    "$$\n",
    "x = \\log m_1\n",
    "$$\n",
    "and\n",
    "$$\n",
    "y = \\log m_2 - \\log \\left( m_1 - m_2 \\right),\n",
    "$$\n",
    "whence\n",
    "$$\n",
    "p\\left( m_1, m_2, z \\mid M \\right) \\propto \\diff{V}{z} \\left( 1 + z \\right)^{\\lambda - 1} \\mathrm{KDE}\\left( x, y \\right) \\frac{1}{m_1} \\left( \\frac{1}{m_2} + \\frac{1}{m_1 - m_2} \\right).\n",
    "$$\n",
    "\n",
    "The following cells implement bits of this calculation."
   ]
  },
  {
   "cell_type": "code",
   "execution_count": 2,
   "metadata": {},
   "outputs": [],
   "source": [
    "def make_kde(m1, m2):\n",
    "    mh = where(m1 > m2, m1, m2)\n",
    "    ml = where(m1 > m2, m2, m1)\n",
    "    \n",
    "    x = log(mh)\n",
    "    y = log(ml) - log(mh-ml)\n",
    "    \n",
    "    return gaussian_kde(row_stack((x, y)))\n",
    "\n",
    "def make_zdist(l, zmax):\n",
    "    zs = expm1(linspace(0, log(zmax+1), 1000))\n",
    "    pz = Planck15.differential_comoving_volume(zs).to(u.Gpc**3/u.sr).value * (1+zs)**(l-1)\n",
    "    norm = trapz(pz, zs)\n",
    "    pz /= norm\n",
    "    \n",
    "    return interp1d(zs, pz)\n",
    "\n",
    "def p_pe(m1, m2, z):\n",
    "    return (1+z)**2*Planck15.luminosity_distance(z).to(u.Gpc).value**2*(Planck15.comoving_distance(z).to(u.Gpc).value + (1+z)*Planck15.hubble_distance.to(u.Gpc).value/Planck15.efunc(z))\n",
    "\n",
    "def make_pm1m2z(m1, m2, l, zmax):\n",
    "    k = make_kde(m1, m2)\n",
    "    zd = make_zdist(l, zmax)\n",
    "    \n",
    "    def pm1m2z(m1, m2, z):\n",
    "        pz = zd(z)\n",
    "        x = log(m1)\n",
    "        y = log(m2) - log(m1-m2)\n",
    "        pk = k(row_stack((x, y)))\n",
    "        \n",
    "        return pz*pk/m1*(1/m2 + 1/(m1-m2))\n",
    "    \n",
    "    return pm1m2z"
   ]
  },
  {
   "cell_type": "markdown",
   "metadata": {},
   "source": [
    "Before we do anything else, let's set up a grid in *detector* mass giving the optimal SNR at $1 \\, \\mathrm{Gpc}$; this will let us interpolate to find the optimal SNR at any mass and distance (since $\\rho$ scales as $1/d_L$ at fixed detector frame mass).\n",
    "\n",
    "This cell saves its results to an HDF5 file (it takes a few minutes to run); the next cell loads the file and constructs the optimal SNR calculator, and can be executed without re-generating the optimal SNR grid."
   ]
  },
  {
   "cell_type": "code",
   "execution_count": 4,
   "metadata": {},
   "outputs": [
    {
     "data": {
      "application/vnd.jupyter.widget-view+json": {
       "model_id": "2011bceaa2a94639b93d2579a053d6c6",
       "version_major": 2,
       "version_minor": 0
      },
      "text/plain": [
       "HBox(children=(IntProgress(value=0, max=10000), HTML(value='')))"
      ]
     },
     "metadata": {},
     "output_type": "display_data"
    },
    {
     "name": "stdout",
     "output_type": "stream",
     "text": [
      "\n"
     ]
    }
   ],
   "source": [
    "z1gpc = cosmo.z_at_value(Planck15.luminosity_distance, 1*u.Gpc)\n",
    "\n",
    "ms = exp(linspace(log(1), log(100), 100))\n",
    "M1S, M2S = meshgrid(ms, ms, indexing='ij')\n",
    "def osm1m2(m1m2):\n",
    "    m1, m2 = m1m2\n",
    "    m1s = m1/(1+z1gpc)\n",
    "    m2s = m2/(1+z1gpc)\n",
    "    \n",
    "    return vt.optimal_snr(m1s, m2s, z1gpc)\n",
    "\n",
    "pool = multi.Pool()\n",
    "try:\n",
    "    OSS = array(list(tqdm_notebook(pool.imap(osm1m2, zip(M1S.ravel(), M2S.ravel())), total=len(M1S.ravel()))))\n",
    "    OSS = reshape(OSS, M1S.shape)\n",
    "finally:\n",
    "    pool.close()\n",
    "    \n",
    "with h5py.File('optimal_snr.h5', 'w') as out:\n",
    "    out.create_dataset('ms', data=ms, compression='gzip', shuffle=True)\n",
    "    out.create_dataset('osnrs', data=OSS, compression='gzip', shuffle=True)"
   ]
  },
  {
   "cell_type": "code",
   "execution_count": 5,
   "metadata": {},
   "outputs": [],
   "source": [
    "with h5py.File('optimal_snr.h5', 'r') as f:\n",
    "    ms = array(f['ms'])\n",
    "    OSS = array(f['osnrs'])\n",
    "\n",
    "M1S, M2S = meshgrid(ms, ms, indexing='ij')\n",
    "\n",
    "oint = RectBivariateSpline(ms, ms, OSS)\n",
    "\n",
    "def optimal_snr(m1, m2, z):\n",
    "    m1d = m1*(1+z)\n",
    "    m2d = m2*(1+z)\n",
    "    \n",
    "    dl = Planck15.luminosity_distance(z).to(u.Gpc).value\n",
    "    \n",
    "    return oint.ev(m1d, m2d)/dl"
   ]
  },
  {
   "cell_type": "code",
   "execution_count": 6,
   "metadata": {},
   "outputs": [
    {
     "data": {
      "text/plain": [
       "(1.5204462121427074, 1.5204461453759621)"
      ]
     },
     "execution_count": 6,
     "metadata": {},
     "output_type": "execute_result"
    }
   ],
   "source": [
    "optimal_snr(5,5,0.6), vt.optimal_snr(5,5,0.6)"
   ]
  },
  {
   "cell_type": "markdown",
   "metadata": {},
   "source": [
    "I grabbed the posterior sample files from https://dcc.ligo.org/LIGO-P1800370/public; here we load them up:"
   ]
  },
  {
   "cell_type": "code",
   "execution_count": 7,
   "metadata": {},
   "outputs": [
    {
     "data": {
      "application/vnd.jupyter.widget-view+json": {
       "model_id": "8f716caaa95940e0bb108bb6095b4bb2",
       "version_major": 2,
       "version_minor": 0
      },
      "text/plain": [
       "HBox(children=(IntProgress(value=0, max=10), HTML(value='')))"
      ]
     },
     "metadata": {},
     "output_type": "display_data"
    },
    {
     "name": "stdout",
     "output_type": "stream",
     "text": [
      "\n"
     ]
    }
   ],
   "source": [
    "postsamples = {}\n",
    "z = expm1(linspace(0, log(4), 1000))\n",
    "d = Planck15.luminosity_distance(z).to(u.Mpc).value\n",
    "z_of_d = interp1d(d, z)\n",
    "for f in tqdm_notebook(os.listdir('GWTC-1_sample_release')):\n",
    "    name = f[:8]\n",
    "    with h5py.File(os.path.join('GWTC-1_sample_release', f), 'r') as f:\n",
    "        dl = array(f['Overall_posterior']['luminosity_distance_Mpc'])\n",
    "        z = z_of_d(dl)\n",
    "        m1 = array(f['Overall_posterior']['m1_detector_frame_Msun'])/(1+z)\n",
    "        m2 = array(f['Overall_posterior']['m2_detector_frame_Msun'])/(1+z)\n",
    "        \n",
    "        postsamples[name] = (m1, m2, z)"
   ]
  },
  {
   "cell_type": "markdown",
   "metadata": {},
   "source": [
    "Here we load the data from Yihan's cluster runs."
   ]
  },
  {
   "cell_type": "code",
   "execution_count": 8,
   "metadata": {},
   "outputs": [
    {
     "data": {
      "application/vnd.jupyter.widget-view+json": {
       "model_id": "b24acfa4105f4d10b7e4bf1f70ffb0b0",
       "version_major": 2,
       "version_minor": 0
      },
      "text/plain": [
       "HBox(children=(IntProgress(value=0, max=6), HTML(value='')))"
      ]
     },
     "metadata": {},
     "output_type": "display_data"
    },
    {
     "name": "stdout",
     "output_type": "stream",
     "text": [
      "\n"
     ]
    }
   ],
   "source": [
    "clusters = {}\n",
    "for a in tqdm_notebook([0, 1, 2, 2.35, 3, 4]):\n",
    "    c = loadtxt('Clusters/small_cluster_{:g}.dat'.format(a), dtype=np.dtype([('m1', np.float), ('m2', np.float), ('a', np.float), ('e', np.float), ('tgw', np.float)]))\n",
    "    clusters[a] = c[c['tgw'] < 1e10]"
   ]
  },
  {
   "cell_type": "markdown",
   "metadata": {},
   "source": [
    "We need to have a redshift distribution over all the possible samples we have from PE.  We also need to make sure that $P_\\mathrm{det}\\left( z_\\mathrm{max} \\right) = 0$.  In fact, the posterior on redshift for GW170729 extends past the GW detection horizon for the selection function we are using; this tells us that the selection function is wrong, but we have checked whether this makes a difference for our analyses in LIGO (we use the same approximation sometimes), and it doesn't seem to."
   ]
  },
  {
   "cell_type": "code",
   "execution_count": 9,
   "metadata": {},
   "outputs": [
    {
     "name": "stdout",
     "output_type": "stream",
     "text": [
      "zMax = 0.99\n"
     ]
    }
   ],
   "source": [
    "zMax = 1.1*max(*[np.max(p[2]) for p in postsamples.values()])\n",
    "print('zMax = {:.2f}'.format(zMax))"
   ]
  },
  {
   "cell_type": "markdown",
   "metadata": {},
   "source": [
    "Set this to $\\lambda = 0$ for constant merger rate in the comoving frame; $\\lambda = 3$ for something that roughly tracks the SFR."
   ]
  },
  {
   "cell_type": "code",
   "execution_count": 171,
   "metadata": {},
   "outputs": [],
   "source": [
    "lams = [0, 1, 2, 3, 4, 5, 6]"
   ]
  },
  {
   "cell_type": "markdown",
   "metadata": {},
   "source": [
    "The computation of the average detectability is a bit tricky.  We follow [Farr (2019, in prep)](https://github.com/farr/SelectionAccuracy) and draw a sample of detected systems according to a simple distribution, $p_\\mathrm{draw}$; then by the basic rules of Monte-Carlo integration the denominator in the likelihood is given by \n",
    "$$\n",
    "\\left \\langle P_\\mathrm{det} \\right\\rangle = \\left\\langle \\frac{p\\left( m_1, m_2 \\mid M \\right) p\\left( z \\mid M \\right) }{p_\\mathrm{draw}\\left( m_1, m_2, z \\right)} \\right\\rangle_{\\left\\{ m_1, m_2, z \\in \\mathrm{draws} \\right\\}}.\n",
    "$$\n",
    "(We actually use a correction to the formula that incorporates the leading-order finite-$N$ effect; see Farr (2019) above.)\n",
    "\n",
    "We can also estimate the Monte-Carlo uncertainty in the integral; Farr (2019) shows that we get reliable parameter estimates as long as \n",
    "$$\n",
    "\\frac{\\left\\langle P^2_\\mathrm{det} \\right\\rangle}{\\sigma^2_{P_\\mathrm{det}}} \\equiv N_\\mathrm{eff} \\gg 4 N_\\mathrm{det} = 40.\n",
    "$$\n",
    "\n",
    "The number of draws is chosen to ensure that $N_\\mathrm{eff} \\gtrsim 2 \\times 4 N_\\mathrm{det} \\simeq 80$ with the distribution of masses and redshifts we have chosen."
   ]
  },
  {
   "cell_type": "code",
   "execution_count": 86,
   "metadata": {},
   "outputs": [
    {
     "data": {
      "application/vnd.jupyter.widget-view+json": {
       "model_id": "c940f6fa748548319550f6e9a43e68a9",
       "version_major": 2,
       "version_minor": 0
      },
      "text/plain": [
       "HBox(children=(IntProgress(value=0, max=50000), HTML(value='')))"
      ]
     },
     "metadata": {},
     "output_type": "display_data"
    }
   ],
   "source": [
    "Ndraw = 0\n",
    "Ndesired = 50000\n",
    "\n",
    "MMin = 1\n",
    "MMax = 100\n",
    "\n",
    "snr_thresh = 8\n",
    "\n",
    "m1_det = []\n",
    "m2_det = []\n",
    "z_det = []\n",
    "wt_det = []\n",
    "\n",
    "with tqdm_notebook(total=Ndesired) as bar:\n",
    "    while len(m1_det) < Ndesired:\n",
    "        m1 = exp(log(MMin) + log(MMax/MMin)*rand())  # Flat in log(m1)\n",
    "        m2 = MMin + (m1 - MMin)*rand()  # Flat from MMin to m1\n",
    "        z = expm1(log(1) + log((1+zMax)/1)*rand()) # Flat in log(1+z)\n",
    "                \n",
    "        Ndraw += 1\n",
    "        \n",
    "        rho_true = random.choice(vt.thetas)*optimal_snr(m1, m2, z)\n",
    "        rho = rho_true + randn()\n",
    "        \n",
    "        if rho > snr_thresh:\n",
    "            # These need to be normalized or else the integral does not compute <Pdet> (though it would still work)\n",
    "            pm1 = 1.0/(m1*log(MMax/MMin))  \n",
    "            pm2 = 1.0/(m1 - MMin)\n",
    "            pz = 1.0/((1+z)*log((1+zMax)/1))\n",
    "            \n",
    "            m1_det.append(m1)\n",
    "            m2_det.append(m2)\n",
    "            z_det.append(z)\n",
    "            wt_det.append(pm1*pm2*pz)\n",
    "            \n",
    "            bar.update(1)\n",
    "            \n",
    "m1_det = array(m1_det)\n",
    "m2_det = array(m2_det)\n",
    "z_det = array(z_det)\n",
    "wt_det = array(wt_det)"
   ]
  },
  {
   "cell_type": "markdown",
   "metadata": {},
   "source": [
    "Here we compute the average detection probability for each of the cluster populations:"
   ]
  },
  {
   "cell_type": "code",
   "execution_count": 172,
   "metadata": {},
   "outputs": [],
   "source": [
    "def mean_pdet(m1, m2, lam, zMax):\n",
    "    pm1m2z = make_pm1m2z(m1, m2, lam, zMax)\n",
    "    \n",
    "    pds = pm1m2z(m1_det, m2_det, z_det) / wt_det\n",
    "    \n",
    "    mu = np.sum(pds)/Ndraw\n",
    "    sigma2 = pds.shape[0]*np.var(pds)/Ndraw**2\n",
    "    \n",
    "    Neff = mu*mu/sigma2\n",
    "    \n",
    "    return mu, Neff"
   ]
  },
  {
   "cell_type": "code",
   "execution_count": 173,
   "metadata": {},
   "outputs": [
    {
     "data": {
      "application/vnd.jupyter.widget-view+json": {
       "model_id": "dc019d374c88402eae7be2b84e4c7389",
       "version_major": 2,
       "version_minor": 0
      },
      "text/plain": [
       "HBox(children=(IntProgress(value=0, max=6), HTML(value='')))"
      ]
     },
     "metadata": {},
     "output_type": "display_data"
    },
    {
     "name": "stdout",
     "output_type": "stream",
     "text": [
      "For slope 0, lambda = 0, <Pdet> = 90.712 and Neff = 1968.52\n",
      "For slope 0, lambda = 1, <Pdet> = 65.9841 and Neff = 1661.03\n",
      "For slope 0, lambda = 2, <Pdet> = 47.5766 and Neff = 1381.1\n",
      "For slope 0, lambda = 3, <Pdet> = 34.0816 and Neff = 1133.23\n",
      "For slope 0, lambda = 4, <Pdet> = 24.3082 and Neff = 919.509\n",
      "For slope 0, lambda = 5, <Pdet> = 17.296 and Neff = 739.671\n",
      "For slope 0, lambda = 6, <Pdet> = 12.2987 and Neff = 591.517\n",
      "For slope 1, lambda = 0, <Pdet> = 53.4487 and Neff = 3871.79\n",
      "For slope 1, lambda = 1, <Pdet> = 38.1088 and Neff = 3296\n",
      "For slope 1, lambda = 2, <Pdet> = 26.9171 and Neff = 2762.37\n",
      "For slope 1, lambda = 3, <Pdet> = 18.8783 and Neff = 2279.49\n",
      "For slope 1, lambda = 4, <Pdet> = 13.1767 and Neff = 1853.35\n",
      "For slope 1, lambda = 5, <Pdet> = 9.17188 and Neff = 1486.75\n",
      "For slope 1, lambda = 6, <Pdet> = 6.37889 and Neff = 1179.04\n",
      "For slope 2, lambda = 0, <Pdet> = 27.6978 and Neff = 6220.74\n",
      "For slope 2, lambda = 1, <Pdet> = 19.2189 and Neff = 5475.49\n",
      "For slope 2, lambda = 2, <Pdet> = 13.1957 and Neff = 4741.35\n",
      "For slope 2, lambda = 3, <Pdet> = 8.98658 and Neff = 4033.66\n",
      "For slope 2, lambda = 4, <Pdet> = 6.08423 and Neff = 3368.39\n",
      "For slope 2, lambda = 5, <Pdet> = 4.10399 and Neff = 2760.31\n",
      "For slope 2, lambda = 6, <Pdet> = 2.76355 and Neff = 2220.97\n",
      "For slope 2.35, lambda = 0, <Pdet> = 22.9036 and Neff = 6872.35\n",
      "For slope 2.35, lambda = 1, <Pdet> = 15.7768 and Neff = 6142.55\n",
      "For slope 2.35, lambda = 2, <Pdet> = 10.7502 and Neff = 5403.58\n",
      "For slope 2.35, lambda = 3, <Pdet> = 7.26322 and Neff = 4669.09\n",
      "For slope 2.35, lambda = 4, <Pdet> = 4.87711 and Neff = 3955.85\n",
      "For slope 2.35, lambda = 5, <Pdet> = 3.26193 and Neff = 3282.38\n",
      "For slope 2.35, lambda = 6, <Pdet> = 2.17751 and Neff = 2666.53\n",
      "For slope 3, lambda = 0, <Pdet> = 11.5383 and Neff = 5415.84\n",
      "For slope 3, lambda = 1, <Pdet> = 7.73645 and Neff = 4979.06\n",
      "For slope 3, lambda = 2, <Pdet> = 5.12407 and Neff = 4511.68\n",
      "For slope 3, lambda = 3, <Pdet> = 3.36035 and Neff = 4018.83\n",
      "For slope 3, lambda = 4, <Pdet> = 2.18701 and Neff = 3510.36\n",
      "For slope 3, lambda = 5, <Pdet> = 1.41571 and Neff = 3000.85\n",
      "For slope 3, lambda = 6, <Pdet> = 0.913413 and Neff = 2508.09\n",
      "For slope 4, lambda = 0, <Pdet> = 6.39488 and Neff = 2764.26\n",
      "For slope 4, lambda = 1, <Pdet> = 4.14888 and Neff = 2648.96\n",
      "For slope 4, lambda = 2, <Pdet> = 2.65034 and Neff = 2532.64\n",
      "For slope 4, lambda = 3, <Pdet> = 1.67023 and Neff = 2415.59\n",
      "For slope 4, lambda = 4, <Pdet> = 1.04026 and Neff = 2298.11\n",
      "For slope 4, lambda = 5, <Pdet> = 0.641382 and Neff = 2180.57\n",
      "For slope 4, lambda = 6, <Pdet> = 0.392052 and Neff = 2063.37\n"
     ]
    }
   ],
   "source": [
    "mean_pdets = {}\n",
    "for k, c in tqdm_notebook(clusters.items()):\n",
    "    for l in lams:\n",
    "        mean_pdets[(k,l)] = mean_pdet(c['m1'], c['m2'], l, zMax)\n",
    "        mu, N = mean_pdets[(k,l)]\n",
    "        print('For slope {:g}, lambda = {:g}, <Pdet> = {:g} and Neff = {:g}'.format(k, l, mu, N))"
   ]
  },
  {
   "cell_type": "markdown",
   "metadata": {},
   "source": [
    "And here we compute the log-probability (evidence) for each cluster population; c.f. formulas above."
   ]
  },
  {
   "cell_type": "code",
   "execution_count": 174,
   "metadata": {},
   "outputs": [
    {
     "data": {
      "application/vnd.jupyter.widget-view+json": {
       "model_id": "6f1748bc178943288eebd2286385ea9e",
       "version_major": 2,
       "version_minor": 0
      },
      "text/plain": [
       "HBox(children=(IntProgress(value=0, description='Clusters', max=6, style=ProgressStyle(description_width='init…"
      ]
     },
     "metadata": {},
     "output_type": "display_data"
    },
    {
     "data": {
      "application/vnd.jupyter.widget-view+json": {
       "model_id": "dcb723cfc5c04781a366531f495df747",
       "version_major": 2,
       "version_minor": 0
      },
      "text/plain": [
       "HBox(children=(IntProgress(value=0, description='Redshifts', max=7, style=ProgressStyle(description_width='ini…"
      ]
     },
     "metadata": {},
     "output_type": "display_data"
    },
    {
     "data": {
      "application/vnd.jupyter.widget-view+json": {
       "model_id": "83800c86e9cc49c381a09ff0a19aa258",
       "version_major": 2,
       "version_minor": 0
      },
      "text/plain": [
       "HBox(children=(IntProgress(value=0, description='Events', max=10, style=ProgressStyle(description_width='initi…"
      ]
     },
     "metadata": {},
     "output_type": "display_data"
    },
    {
     "data": {
      "application/vnd.jupyter.widget-view+json": {
       "model_id": "add2e95405344c46994eee30b7189af4",
       "version_major": 2,
       "version_minor": 0
      },
      "text/plain": [
       "HBox(children=(IntProgress(value=0, description='Events', max=10, style=ProgressStyle(description_width='initi…"
      ]
     },
     "metadata": {},
     "output_type": "display_data"
    },
    {
     "data": {
      "application/vnd.jupyter.widget-view+json": {
       "model_id": "b8e3d57de7214133b77d3c88c5f2365f",
       "version_major": 2,
       "version_minor": 0
      },
      "text/plain": [
       "HBox(children=(IntProgress(value=0, description='Events', max=10, style=ProgressStyle(description_width='initi…"
      ]
     },
     "metadata": {},
     "output_type": "display_data"
    },
    {
     "data": {
      "application/vnd.jupyter.widget-view+json": {
       "model_id": "485c172bbaee4ff6a9eededad1c44fe2",
       "version_major": 2,
       "version_minor": 0
      },
      "text/plain": [
       "HBox(children=(IntProgress(value=0, description='Events', max=10, style=ProgressStyle(description_width='initi…"
      ]
     },
     "metadata": {},
     "output_type": "display_data"
    },
    {
     "data": {
      "application/vnd.jupyter.widget-view+json": {
       "model_id": "8c9d557ba16645f5860e95e3318b4e13",
       "version_major": 2,
       "version_minor": 0
      },
      "text/plain": [
       "HBox(children=(IntProgress(value=0, description='Events', max=10, style=ProgressStyle(description_width='initi…"
      ]
     },
     "metadata": {},
     "output_type": "display_data"
    },
    {
     "data": {
      "application/vnd.jupyter.widget-view+json": {
       "model_id": "2b6e0d870a674165a447046bc089dbbb",
       "version_major": 2,
       "version_minor": 0
      },
      "text/plain": [
       "HBox(children=(IntProgress(value=0, description='Events', max=10, style=ProgressStyle(description_width='initi…"
      ]
     },
     "metadata": {},
     "output_type": "display_data"
    },
    {
     "data": {
      "application/vnd.jupyter.widget-view+json": {
       "model_id": "53f8154417a045d6abe2abdad9e5111e",
       "version_major": 2,
       "version_minor": 0
      },
      "text/plain": [
       "HBox(children=(IntProgress(value=0, description='Events', max=10, style=ProgressStyle(description_width='initi…"
      ]
     },
     "metadata": {},
     "output_type": "display_data"
    },
    {
     "data": {
      "application/vnd.jupyter.widget-view+json": {
       "model_id": "6bd6c30bd34a487ab1c60b7392676c97",
       "version_major": 2,
       "version_minor": 0
      },
      "text/plain": [
       "HBox(children=(IntProgress(value=0, description='Redshifts', max=7, style=ProgressStyle(description_width='ini…"
      ]
     },
     "metadata": {},
     "output_type": "display_data"
    },
    {
     "data": {
      "application/vnd.jupyter.widget-view+json": {
       "model_id": "5724a59c59e04a1aa75944372507f294",
       "version_major": 2,
       "version_minor": 0
      },
      "text/plain": [
       "HBox(children=(IntProgress(value=0, description='Events', max=10, style=ProgressStyle(description_width='initi…"
      ]
     },
     "metadata": {},
     "output_type": "display_data"
    },
    {
     "data": {
      "application/vnd.jupyter.widget-view+json": {
       "model_id": "8c94609424ca471e8958ac04de8e874a",
       "version_major": 2,
       "version_minor": 0
      },
      "text/plain": [
       "HBox(children=(IntProgress(value=0, description='Events', max=10, style=ProgressStyle(description_width='initi…"
      ]
     },
     "metadata": {},
     "output_type": "display_data"
    },
    {
     "data": {
      "application/vnd.jupyter.widget-view+json": {
       "model_id": "b07f1b79fabd42908b8703df3c97b79e",
       "version_major": 2,
       "version_minor": 0
      },
      "text/plain": [
       "HBox(children=(IntProgress(value=0, description='Events', max=10, style=ProgressStyle(description_width='initi…"
      ]
     },
     "metadata": {},
     "output_type": "display_data"
    },
    {
     "data": {
      "application/vnd.jupyter.widget-view+json": {
       "model_id": "892d400d3a5d4b0bb4106033f4508184",
       "version_major": 2,
       "version_minor": 0
      },
      "text/plain": [
       "HBox(children=(IntProgress(value=0, description='Events', max=10, style=ProgressStyle(description_width='initi…"
      ]
     },
     "metadata": {},
     "output_type": "display_data"
    },
    {
     "data": {
      "application/vnd.jupyter.widget-view+json": {
       "model_id": "89f3d6d4174a4af88028d01a57b4cbbc",
       "version_major": 2,
       "version_minor": 0
      },
      "text/plain": [
       "HBox(children=(IntProgress(value=0, description='Events', max=10, style=ProgressStyle(description_width='initi…"
      ]
     },
     "metadata": {},
     "output_type": "display_data"
    },
    {
     "data": {
      "application/vnd.jupyter.widget-view+json": {
       "model_id": "19442c86b537440c9daaa386b0eb35f3",
       "version_major": 2,
       "version_minor": 0
      },
      "text/plain": [
       "HBox(children=(IntProgress(value=0, description='Events', max=10, style=ProgressStyle(description_width='initi…"
      ]
     },
     "metadata": {},
     "output_type": "display_data"
    },
    {
     "data": {
      "application/vnd.jupyter.widget-view+json": {
       "model_id": "78ca73f550944ba6ab9cdafad083a62c",
       "version_major": 2,
       "version_minor": 0
      },
      "text/plain": [
       "HBox(children=(IntProgress(value=0, description='Events', max=10, style=ProgressStyle(description_width='initi…"
      ]
     },
     "metadata": {},
     "output_type": "display_data"
    },
    {
     "data": {
      "application/vnd.jupyter.widget-view+json": {
       "model_id": "f44735af1e2744ebbdafdd1e1b9b7b94",
       "version_major": 2,
       "version_minor": 0
      },
      "text/plain": [
       "HBox(children=(IntProgress(value=0, description='Redshifts', max=7, style=ProgressStyle(description_width='ini…"
      ]
     },
     "metadata": {},
     "output_type": "display_data"
    },
    {
     "data": {
      "application/vnd.jupyter.widget-view+json": {
       "model_id": "2ecf2e6e5ec449c5860f65ddbd8d41dd",
       "version_major": 2,
       "version_minor": 0
      },
      "text/plain": [
       "HBox(children=(IntProgress(value=0, description='Events', max=10, style=ProgressStyle(description_width='initi…"
      ]
     },
     "metadata": {},
     "output_type": "display_data"
    },
    {
     "data": {
      "application/vnd.jupyter.widget-view+json": {
       "model_id": "90b2fa95801b4f6ab226c82a190ab8bb",
       "version_major": 2,
       "version_minor": 0
      },
      "text/plain": [
       "HBox(children=(IntProgress(value=0, description='Events', max=10, style=ProgressStyle(description_width='initi…"
      ]
     },
     "metadata": {},
     "output_type": "display_data"
    },
    {
     "data": {
      "application/vnd.jupyter.widget-view+json": {
       "model_id": "1dbcb345e7e1491da2cc74817ae2008c",
       "version_major": 2,
       "version_minor": 0
      },
      "text/plain": [
       "HBox(children=(IntProgress(value=0, description='Events', max=10, style=ProgressStyle(description_width='initi…"
      ]
     },
     "metadata": {},
     "output_type": "display_data"
    },
    {
     "data": {
      "application/vnd.jupyter.widget-view+json": {
       "model_id": "9a805844e6a549f1b92454ecd9c38221",
       "version_major": 2,
       "version_minor": 0
      },
      "text/plain": [
       "HBox(children=(IntProgress(value=0, description='Events', max=10, style=ProgressStyle(description_width='initi…"
      ]
     },
     "metadata": {},
     "output_type": "display_data"
    },
    {
     "data": {
      "application/vnd.jupyter.widget-view+json": {
       "model_id": "c1db8f3c61144760bde6ee8238a280e4",
       "version_major": 2,
       "version_minor": 0
      },
      "text/plain": [
       "HBox(children=(IntProgress(value=0, description='Events', max=10, style=ProgressStyle(description_width='initi…"
      ]
     },
     "metadata": {},
     "output_type": "display_data"
    },
    {
     "data": {
      "application/vnd.jupyter.widget-view+json": {
       "model_id": "7bd7c8b390f04b1ea8d44840927e44c2",
       "version_major": 2,
       "version_minor": 0
      },
      "text/plain": [
       "HBox(children=(IntProgress(value=0, description='Events', max=10, style=ProgressStyle(description_width='initi…"
      ]
     },
     "metadata": {},
     "output_type": "display_data"
    },
    {
     "data": {
      "application/vnd.jupyter.widget-view+json": {
       "model_id": "fa2ca11f0044424d95761d7f03d8c6e2",
       "version_major": 2,
       "version_minor": 0
      },
      "text/plain": [
       "HBox(children=(IntProgress(value=0, description='Events', max=10, style=ProgressStyle(description_width='initi…"
      ]
     },
     "metadata": {},
     "output_type": "display_data"
    },
    {
     "data": {
      "application/vnd.jupyter.widget-view+json": {
       "model_id": "e2c7e74530404a0cbc66cc3a6d2b4b8e",
       "version_major": 2,
       "version_minor": 0
      },
      "text/plain": [
       "HBox(children=(IntProgress(value=0, description='Redshifts', max=7, style=ProgressStyle(description_width='ini…"
      ]
     },
     "metadata": {},
     "output_type": "display_data"
    },
    {
     "data": {
      "application/vnd.jupyter.widget-view+json": {
       "model_id": "34b7ab5d7cda4328a81e95080906bffa",
       "version_major": 2,
       "version_minor": 0
      },
      "text/plain": [
       "HBox(children=(IntProgress(value=0, description='Events', max=10, style=ProgressStyle(description_width='initi…"
      ]
     },
     "metadata": {},
     "output_type": "display_data"
    },
    {
     "data": {
      "application/vnd.jupyter.widget-view+json": {
       "model_id": "2fc5b56d923c4b78a03dd187375f78fa",
       "version_major": 2,
       "version_minor": 0
      },
      "text/plain": [
       "HBox(children=(IntProgress(value=0, description='Events', max=10, style=ProgressStyle(description_width='initi…"
      ]
     },
     "metadata": {},
     "output_type": "display_data"
    },
    {
     "data": {
      "application/vnd.jupyter.widget-view+json": {
       "model_id": "e5e0c5a46d6f4ed98556c2eeadf1e6eb",
       "version_major": 2,
       "version_minor": 0
      },
      "text/plain": [
       "HBox(children=(IntProgress(value=0, description='Events', max=10, style=ProgressStyle(description_width='initi…"
      ]
     },
     "metadata": {},
     "output_type": "display_data"
    },
    {
     "data": {
      "application/vnd.jupyter.widget-view+json": {
       "model_id": "515471e09f0447eca1ae1f5ebaaee77a",
       "version_major": 2,
       "version_minor": 0
      },
      "text/plain": [
       "HBox(children=(IntProgress(value=0, description='Events', max=10, style=ProgressStyle(description_width='initi…"
      ]
     },
     "metadata": {},
     "output_type": "display_data"
    },
    {
     "data": {
      "application/vnd.jupyter.widget-view+json": {
       "model_id": "347a8f6fb5834a4b96ce9477ed8bad73",
       "version_major": 2,
       "version_minor": 0
      },
      "text/plain": [
       "HBox(children=(IntProgress(value=0, description='Events', max=10, style=ProgressStyle(description_width='initi…"
      ]
     },
     "metadata": {},
     "output_type": "display_data"
    },
    {
     "data": {
      "application/vnd.jupyter.widget-view+json": {
       "model_id": "f8f2b6a34c4f4a66b4abc597b9634fd3",
       "version_major": 2,
       "version_minor": 0
      },
      "text/plain": [
       "HBox(children=(IntProgress(value=0, description='Events', max=10, style=ProgressStyle(description_width='initi…"
      ]
     },
     "metadata": {},
     "output_type": "display_data"
    },
    {
     "data": {
      "application/vnd.jupyter.widget-view+json": {
       "model_id": "31e21e3d23ca4d8a85049e8917bbc1b2",
       "version_major": 2,
       "version_minor": 0
      },
      "text/plain": [
       "HBox(children=(IntProgress(value=0, description='Events', max=10, style=ProgressStyle(description_width='initi…"
      ]
     },
     "metadata": {},
     "output_type": "display_data"
    },
    {
     "data": {
      "application/vnd.jupyter.widget-view+json": {
       "model_id": "c99c8425c76740f2a798b830b83c7098",
       "version_major": 2,
       "version_minor": 0
      },
      "text/plain": [
       "HBox(children=(IntProgress(value=0, description='Redshifts', max=7, style=ProgressStyle(description_width='ini…"
      ]
     },
     "metadata": {},
     "output_type": "display_data"
    },
    {
     "data": {
      "application/vnd.jupyter.widget-view+json": {
       "model_id": "c5fb8bb8192e4f90a5a877f73a755749",
       "version_major": 2,
       "version_minor": 0
      },
      "text/plain": [
       "HBox(children=(IntProgress(value=0, description='Events', max=10, style=ProgressStyle(description_width='initi…"
      ]
     },
     "metadata": {},
     "output_type": "display_data"
    },
    {
     "data": {
      "application/vnd.jupyter.widget-view+json": {
       "model_id": "658a9e0652134501903bde013242ba64",
       "version_major": 2,
       "version_minor": 0
      },
      "text/plain": [
       "HBox(children=(IntProgress(value=0, description='Events', max=10, style=ProgressStyle(description_width='initi…"
      ]
     },
     "metadata": {},
     "output_type": "display_data"
    },
    {
     "data": {
      "application/vnd.jupyter.widget-view+json": {
       "model_id": "6183b31a67624da1897a9eee38c42e6e",
       "version_major": 2,
       "version_minor": 0
      },
      "text/plain": [
       "HBox(children=(IntProgress(value=0, description='Events', max=10, style=ProgressStyle(description_width='initi…"
      ]
     },
     "metadata": {},
     "output_type": "display_data"
    },
    {
     "data": {
      "application/vnd.jupyter.widget-view+json": {
       "model_id": "105802aaa7004012be8f703ad6a561da",
       "version_major": 2,
       "version_minor": 0
      },
      "text/plain": [
       "HBox(children=(IntProgress(value=0, description='Events', max=10, style=ProgressStyle(description_width='initi…"
      ]
     },
     "metadata": {},
     "output_type": "display_data"
    },
    {
     "data": {
      "application/vnd.jupyter.widget-view+json": {
       "model_id": "8a09b244d7de4ad9aa7ce37358d4a7a9",
       "version_major": 2,
       "version_minor": 0
      },
      "text/plain": [
       "HBox(children=(IntProgress(value=0, description='Events', max=10, style=ProgressStyle(description_width='initi…"
      ]
     },
     "metadata": {},
     "output_type": "display_data"
    },
    {
     "data": {
      "application/vnd.jupyter.widget-view+json": {
       "model_id": "4b65b8dcd0564d02a30e4f6ba04e577f",
       "version_major": 2,
       "version_minor": 0
      },
      "text/plain": [
       "HBox(children=(IntProgress(value=0, description='Events', max=10, style=ProgressStyle(description_width='initi…"
      ]
     },
     "metadata": {},
     "output_type": "display_data"
    },
    {
     "data": {
      "application/vnd.jupyter.widget-view+json": {
       "model_id": "d89c74470e874c68a3db8f73169f1d24",
       "version_major": 2,
       "version_minor": 0
      },
      "text/plain": [
       "HBox(children=(IntProgress(value=0, description='Events', max=10, style=ProgressStyle(description_width='initi…"
      ]
     },
     "metadata": {},
     "output_type": "display_data"
    },
    {
     "data": {
      "application/vnd.jupyter.widget-view+json": {
       "model_id": "29aeff7532f64f37b13a95d1ac03ced6",
       "version_major": 2,
       "version_minor": 0
      },
      "text/plain": [
       "HBox(children=(IntProgress(value=0, description='Redshifts', max=7, style=ProgressStyle(description_width='ini…"
      ]
     },
     "metadata": {},
     "output_type": "display_data"
    },
    {
     "data": {
      "application/vnd.jupyter.widget-view+json": {
       "model_id": "7602cf182efc4386b117ac29c3deb967",
       "version_major": 2,
       "version_minor": 0
      },
      "text/plain": [
       "HBox(children=(IntProgress(value=0, description='Events', max=10, style=ProgressStyle(description_width='initi…"
      ]
     },
     "metadata": {},
     "output_type": "display_data"
    },
    {
     "data": {
      "application/vnd.jupyter.widget-view+json": {
       "model_id": "3b89bbb2c3b747a39df9f352ccad763c",
       "version_major": 2,
       "version_minor": 0
      },
      "text/plain": [
       "HBox(children=(IntProgress(value=0, description='Events', max=10, style=ProgressStyle(description_width='initi…"
      ]
     },
     "metadata": {},
     "output_type": "display_data"
    },
    {
     "data": {
      "application/vnd.jupyter.widget-view+json": {
       "model_id": "4e95589f687a46598a74ad8313966526",
       "version_major": 2,
       "version_minor": 0
      },
      "text/plain": [
       "HBox(children=(IntProgress(value=0, description='Events', max=10, style=ProgressStyle(description_width='initi…"
      ]
     },
     "metadata": {},
     "output_type": "display_data"
    },
    {
     "data": {
      "application/vnd.jupyter.widget-view+json": {
       "model_id": "ec94add8d3764759840eb7a664cefa59",
       "version_major": 2,
       "version_minor": 0
      },
      "text/plain": [
       "HBox(children=(IntProgress(value=0, description='Events', max=10, style=ProgressStyle(description_width='initi…"
      ]
     },
     "metadata": {},
     "output_type": "display_data"
    },
    {
     "data": {
      "application/vnd.jupyter.widget-view+json": {
       "model_id": "fce0e933039c4b05adc04b1b9d39360b",
       "version_major": 2,
       "version_minor": 0
      },
      "text/plain": [
       "HBox(children=(IntProgress(value=0, description='Events', max=10, style=ProgressStyle(description_width='initi…"
      ]
     },
     "metadata": {},
     "output_type": "display_data"
    },
    {
     "data": {
      "application/vnd.jupyter.widget-view+json": {
       "model_id": "41581761791840b5be7101ad081e9971",
       "version_major": 2,
       "version_minor": 0
      },
      "text/plain": [
       "HBox(children=(IntProgress(value=0, description='Events', max=10, style=ProgressStyle(description_width='initi…"
      ]
     },
     "metadata": {},
     "output_type": "display_data"
    },
    {
     "data": {
      "application/vnd.jupyter.widget-view+json": {
       "model_id": "177fffaf2ec44ea6af7a6816a8459b09",
       "version_major": 2,
       "version_minor": 0
      },
      "text/plain": [
       "HBox(children=(IntProgress(value=0, description='Events', max=10, style=ProgressStyle(description_width='initi…"
      ]
     },
     "metadata": {},
     "output_type": "display_data"
    }
   ],
   "source": [
    "Nobs = len(postsamples.values())\n",
    "\n",
    "logevs = {}\n",
    "for k, c in tqdm_notebook(clusters.items(), desc=\"Clusters\"):\n",
    "    for l in tqdm_notebook(lams, desc=\"Redshifts\"):\n",
    "        mu, Neff = mean_pdets[(k,l)]\n",
    "        pm1m2z = make_pm1m2z(c['m1'], c['m2'], l, zMax)\n",
    "        log_ev = 0.0\n",
    "        for e in tqdm_notebook(postsamples.values(), desc=\"Events\"):\n",
    "            log_ev += log(mean(pm1m2z(*e)/p_pe(*e)))\n",
    "        logevs[(k,l)] = log_ev - Nobs*log(mu) + (3*Nobs + Nobs*Nobs)/(2*Neff)"
   ]
  },
  {
   "cell_type": "markdown",
   "metadata": {},
   "source": [
    "Evidence values are not defined on an absolute scale, but only up to a constant.  Here we normalize the evidence values so that the integral over $\\alpha$ and $\\lambda$ is one (thus one can interpret a plot of the evidence values versus $\\alpha$ and $\\lambda$ as a *density* or PDF for $\\alpha, \\lambda$).  We first re-scale by the largest evidence value (to avoid overflow in the exponential), and then do a trapezoidal integral."
   ]
  },
  {
   "cell_type": "code",
   "execution_count": 175,
   "metadata": {},
   "outputs": [],
   "source": [
    "raw_logevs = logevs.copy()\n",
    "\n",
    "Zm = max(*logevs.values())\n",
    "for k in logevs.keys():\n",
    "    logevs[k] = logevs[k] - Zm"
   ]
  },
  {
   "cell_type": "code",
   "execution_count": 176,
   "metadata": {},
   "outputs": [],
   "source": [
    "al = []\n",
    "la = []\n",
    "ev = []\n",
    "for a in clusters.keys():\n",
    "    for l in lams:\n",
    "        al.append(a)\n",
    "        la.append(l)\n",
    "        ev.append(logevs[(a,l)])\n",
    "al = array(al).reshape((len(clusters), len(lams)))\n",
    "la = array(la).reshape((len(clusters), len(lams)))\n",
    "ev = array(ev).reshape((len(clusters), len(lams)))\n",
    "\n",
    "Ztot = trapz(trapz(exp(ev), la, axis=1), al[:,0])\n",
    "ev = ev - log(Ztot)\n",
    "for k in logevs.keys():\n",
    "    logevs[k] = logevs[k] - log(Ztot)"
   ]
  },
  {
   "cell_type": "code",
   "execution_count": 204,
   "metadata": {},
   "outputs": [
    {
     "data": {
      "image/png": "[encoded data removed]",
      "text/plain": [
       "<Figure size 242.267x242.267 with 4 Axes>"
      ]
     },
     "metadata": {
      "image/png": {
       "height": 232,
       "width": 236
      }
     },
     "output_type": "display_data"
    }
   ],
   "source": [
    "with sns.plotting_context('paper'):\n",
    "    orig_tex = plt.rcParams['text.usetex']\n",
    "    plt.rcParams['text.usetex'] = True\n",
    "    try:\n",
    "        f, ax = plt.subplots(figsize=(colwidth,colwidth))\n",
    "\n",
    "        cs = ax.contourf(al, la, exp(ev), cmap='viridis')\n",
    "        ax.set_xlabel(r'$\\alpha$')\n",
    "        ax.set_ylabel(r'$\\lambda$')\n",
    "        plt.colorbar(cs, ax=ax)\n",
    "\n",
    "        gs = make_axes_locatable(ax)\n",
    "\n",
    "        alpha_pdf = gs.append_axes('top', 0.5, pad = 0.3, sharex=ax)\n",
    "        lambda_pdf = gs.append_axes('right', 0.5, pad = 0.3, sharey=ax)\n",
    "\n",
    "        alpha_pdf.plot(al[:,0], trapz(exp(ev), la, axis=1))\n",
    "        alpha_pdf.set_ylabel(r'$p(\\alpha)$')\n",
    "\n",
    "        lambda_pdf.plot(trapz(exp(ev), al[:,0], axis=0), la[0,:])\n",
    "        lambda_pdf.set_xlabel(r'$p(\\lambda)$')\n",
    "        lambda_pdf.set_xlim((0, None))\n",
    "\n",
    "        tight_layout()\n",
    "        savefig('alpha-lambda.pdf')\n",
    "    finally:\n",
    "        plt.rcParams['text.usetex'] = orig_tex"
   ]
  },
  {
   "cell_type": "markdown",
   "metadata": {},
   "source": [
    "We want to report the 68% credible region of $\\alpha$ marginalized over $\\lambda$."
   ]
  },
  {
   "cell_type": "code",
   "execution_count": 208,
   "metadata": {},
   "outputs": [
    {
     "name": "stdout",
     "output_type": "stream",
     "text": [
      "68% range of alpha is 1.2 to 2.7\n",
      "alpha = 2.35 + 0.35 - 1.20\n"
     ]
    }
   ],
   "source": [
    "alpha_pdf = trapz(exp(ev), la, axis=1)\n",
    "alpha_cdf = cumtrapz(alpha_pdf, al[:,0], initial=0)\n",
    "alpha_icdf_interp = interp1d(alpha_cdf / alpha_cdf[-1], al[:,0])\n",
    "\n",
    "l = alpha_icdf_interp(0.16)\n",
    "h = alpha_icdf_interp(0.84)\n",
    "m = al[argmax(alpha_pdf), 0]\n",
    "\n",
    "print('68% range of alpha is {:.1f} to {:.1f}'.format(l, h))\n",
    "print('alpha = {:.2f} + {:.2f} - {:.2f}'.format(m, h-m, m-l))"
   ]
  },
  {
   "cell_type": "markdown",
   "metadata": {},
   "source": [
    "Here we plot the observed distribution of total mass against the distributions from each of the populations.  **Note** this is not a fair comparison because we are comparing *observed* properties (i.e. passed through a selection function and also convolved with observational errors) against *intrinsic* properties (the mass distributions).  See below for a fair comparison."
   ]
  },
  {
   "cell_type": "code",
   "execution_count": 93,
   "metadata": {},
   "outputs": [
    {
     "data": {
      "text/plain": [
       "Text(0, 0.5, '$p\\\\left( M \\\\right)$')"
      ]
     },
     "execution_count": 93,
     "metadata": {},
     "output_type": "execute_result"
    },
    {
     "data": {
      "image/png": "[encoded data removed]",
      "text/plain": [
       "<Figure size 432x288 with 1 Axes>"
      ]
     },
     "metadata": {
      "image/png": {
       "height": 271,
       "width": 401
      },
      "needs_background": "light"
     },
     "output_type": "display_data"
    }
   ],
   "source": [
    "for k, c in clusters.items():\n",
    "    sns.distplot(c['m1']+c['m2'], label=str(k))\n",
    "    \n",
    "ps = []\n",
    "for _, p in postsamples.items():\n",
    "    ps.append(random.choice(p[0]+p[1], size=1000))\n",
    "ps = np.concatenate(ps)\n",
    "sns.distplot(ps, color='k', label='Observed')\n",
    "\n",
    "legend(loc='best')\n",
    "xlabel(r'$M$ ($M_\\odot$)')\n",
    "ylabel(r'$p\\left( M \\right)$')"
   ]
  },
  {
   "cell_type": "markdown",
   "metadata": {},
   "source": [
    "We need to compare *observed* properties to predictions for the *observed* properties from the models.  Here is (one way) we can do this.\n",
    "\n",
    "We choose to compare in the space of total mass.  We begin by drawing samples from the PE *likelihood* in total mass (i.e. we un-weight the PE samples from the prior).  Then we draw sets of 10 *detected* samples in total mass from each of the mass models; for each *detected* sample in total mass, we choose the likelihood whose median is closest to the total mass, and scatter the detected mass by the width of that likelihood function.  We plot the distributions so obtained against random draws from the likelihoods and compare."
   ]
  },
  {
   "cell_type": "code",
   "execution_count": 209,
   "metadata": {},
   "outputs": [
    {
     "data": {
      "application/vnd.jupyter.widget-view+json": {
       "model_id": "670e02803f2a478e937cea583228dab9",
       "version_major": 2,
       "version_minor": 0
      },
      "text/plain": [
       "HBox(children=(IntProgress(value=0), HTML(value='')))"
      ]
     },
     "metadata": {},
     "output_type": "display_data"
    },
    {
     "data": {
      "application/vnd.jupyter.widget-view+json": {
       "model_id": "376cc19a0ca04045b06f0ca3fd2863ec",
       "version_major": 2,
       "version_minor": 0
      },
      "text/plain": [
       "HBox(children=(IntProgress(value=0, description='Clusters', max=6, style=ProgressStyle(description_width='init…"
      ]
     },
     "metadata": {},
     "output_type": "display_data"
    },
    {
     "data": {
      "application/vnd.jupyter.widget-view+json": {
       "model_id": "7801f7420a6146c6a388abd34e8f6b3b",
       "version_major": 2,
       "version_minor": 0
      },
      "text/plain": [
       "HBox(children=(IntProgress(value=0, description='Draws from cluster 0', style=ProgressStyle(description_width=…"
      ]
     },
     "metadata": {},
     "output_type": "display_data"
    },
    {
     "data": {
      "application/vnd.jupyter.widget-view+json": {
       "model_id": "22eb178f8dd34f52898d45ea5449f26b",
       "version_major": 2,
       "version_minor": 0
      },
      "text/plain": [
       "HBox(children=(IntProgress(value=0, description='Draws from cluster 1', style=ProgressStyle(description_width=…"
      ]
     },
     "metadata": {},
     "output_type": "display_data"
    },
    {
     "data": {
      "application/vnd.jupyter.widget-view+json": {
       "model_id": "95c4cfcd350f41d99e5daa53a73293d9",
       "version_major": 2,
       "version_minor": 0
      },
      "text/plain": [
       "HBox(children=(IntProgress(value=0, description='Draws from cluster 2', style=ProgressStyle(description_width=…"
      ]
     },
     "metadata": {},
     "output_type": "display_data"
    },
    {
     "data": {
      "application/vnd.jupyter.widget-view+json": {
       "model_id": "03eb657be7f241e49b744614db7ef4ad",
       "version_major": 2,
       "version_minor": 0
      },
      "text/plain": [
       "HBox(children=(IntProgress(value=0, description='Draws from cluster 2.35', style=ProgressStyle(description_wid…"
      ]
     },
     "metadata": {},
     "output_type": "display_data"
    },
    {
     "data": {
      "application/vnd.jupyter.widget-view+json": {
       "model_id": "116a4c93a2b049d1a016b99c72518f0a",
       "version_major": 2,
       "version_minor": 0
      },
      "text/plain": [
       "HBox(children=(IntProgress(value=0, description='Draws from cluster 3', style=ProgressStyle(description_width=…"
      ]
     },
     "metadata": {},
     "output_type": "display_data"
    },
    {
     "data": {
      "application/vnd.jupyter.widget-view+json": {
       "model_id": "adbc1f8a96e54fc78a7894e4e19094b9",
       "version_major": 2,
       "version_minor": 0
      },
      "text/plain": [
       "HBox(children=(IntProgress(value=0, description='Draws from cluster 4', style=ProgressStyle(description_width=…"
      ]
     },
     "metadata": {},
     "output_type": "display_data"
    }
   ],
   "source": [
    "Ndraw = 100\n",
    "\n",
    "# Specialize to following the SFR (this is preferred a bit by our fits, but not massively)\n",
    "lam = 3\n",
    "\n",
    "zs = expm1(linspace(log(1), log(1+zMax), 100))\n",
    "pzs = Planck15.differential_comoving_volume(zs).to(u.Gpc**3/u.sr).value*(1+zs)**(lam-1)\n",
    "pzs /= trapz(pzs, zs)\n",
    "czs = cumtrapz(pzs, zs, initial=0)\n",
    "izcdf = interp1d(czs, zs)\n",
    "zcdf = interp1d(zs, czs)\n",
    "\n",
    "snr_thresh = 8\n",
    "\n",
    "cluster_weights = [1.0/p_pe(*p)/np.sum(1/p_pe(*p)) for p in postsamples.values()]\n",
    "\n",
    "mt_medians = []\n",
    "for wt, ps in zip(cluster_weights, postsamples.values()):\n",
    "    n = len(ps[0])\n",
    "    inds = random.choice(n, size=1000, p=wt)\n",
    "    mt_medians.append(median(ps[0][inds]+ps[1][inds]))\n",
    "\n",
    "obs_draws = []\n",
    "for i in tqdm_notebook(range(Ndraw)):\n",
    "    draws = [random.choice(p[0]+p[1], p=wt) for p, wt in zip(postsamples.values(), cluster_weights)]\n",
    "    obs_draws.append(draws)\n",
    "\n",
    "Nc = len(clusters.values())\n",
    "    \n",
    "cluster_draws = []\n",
    "for ic, (k, c) in tqdm_notebook(enumerate(clusters.items()), total=Nc, desc=\"Clusters\"):\n",
    "    mts = []\n",
    "    for i in tqdm_notebook(range(Ndraw), desc=\"Draws from cluster {:g}\".format(k)):\n",
    "        mt_det = []\n",
    "        while len(mt_det) < len(postsamples.values()):\n",
    "            i = randint(len(c['m1']))\n",
    "            m1 = c['m1'][i]\n",
    "            m2 = c['m2'][i]\n",
    "            z = izcdf(rand())\n",
    "\n",
    "            rho = random.choice(vt.thetas)*optimal_snr(m1, m2, z) + randn()\n",
    "\n",
    "            if rho > snr_thresh:\n",
    "                mt_det.append(m1+m2)\n",
    "        mt_obs = []\n",
    "        for mt in mt_det:\n",
    "            i = argmin(abs(mt_medians - mt))\n",
    "            p = list(postsamples.values())[i]\n",
    "            mt_obs.append(mt + random.choice(p[0]+p[1]) - random.choice(p[0]+p[1]))\n",
    "        \n",
    "        mts.append(mt_obs)\n",
    "        \n",
    "    cluster_draws.append(mts)"
   ]
  },
  {
   "cell_type": "code",
   "execution_count": 214,
   "metadata": {},
   "outputs": [
    {
     "data": {
      "image/png": "[encoded data removed]",
      "text/plain": [
       "<Figure size 242.267x242.267 with 1 Axes>"
      ]
     },
     "metadata": {
      "image/png": {
       "height": 232,
       "width": 233
      }
     },
     "output_type": "display_data"
    }
   ],
   "source": [
    "ms = exp(linspace(log(1), log(100), 100))\n",
    "\n",
    "pal = sns.color_palette(palette='husl', n_colors=len(clusters))\n",
    "\n",
    "obs_ps = []\n",
    "for od in obs_draws:\n",
    "    obs_ps.append(gaussian_kde(od)(ms))\n",
    "obs_ps = array(obs_ps)\n",
    "\n",
    "with sns.plotting_context('paper'):\n",
    "    orig_rc = plt.rcParams['text.usetex']\n",
    "    plt.rcParams['text.usetex'] = True\n",
    "    try:\n",
    "        figure(figsize=(colwidth,colwidth))\n",
    "        plot(ms, median(obs_ps, axis=0), color='k', label='Observations', alpha=0.5)\n",
    "\n",
    "        for i, (k, cd) in enumerate(zip(clusters.keys(), cluster_draws)):\n",
    "            cps = []\n",
    "            for d in cd:\n",
    "                cps.append(gaussian_kde(d)(ms))\n",
    "            cps = array(cps)\n",
    "\n",
    "            l, = plot(ms, median(cps, axis=0), label=str(k), color=pal[i])\n",
    "            fill_between(ms, percentile(cps, 84, axis=0), percentile(cps, 16, axis=0), color=l.get_color(), alpha=0.25)\n",
    "\n",
    "        legend(loc='best')\n",
    "        xlabel(r'$M$ ($M_\\odot$)')\n",
    "        ylabel(r'$p(M)$')\n",
    "\n",
    "        tight_layout()\n",
    "\n",
    "        savefig('M-pred.pdf')\n",
    "    finally:\n",
    "        plt.rcParams['text.usetex'] = orig_rc"
   ]
  },
  {
   "cell_type": "code",
   "execution_count": null,
   "metadata": {},
   "outputs": [],
   "source": []
  }
 ],
 "metadata": {
  "kernelspec": {
   "display_name": "Python 3",
   "language": "python",
   "name": "python3"
  },
  "language_info": {
   "codemirror_mode": {
    "name": "ipython",
    "version": 3
   },
   "file_extension": ".py",
   "mimetype": "text/x-python",
   "name": "python",
   "nbconvert_exporter": "python",
   "pygments_lexer": "ipython3",
   "version": "3.7.3"
  }
 },
 "nbformat": 4,
 "nbformat_minor": 2
}
