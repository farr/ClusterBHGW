{
 "cells": [
  {
   "cell_type": "markdown",
   "metadata": {},
   "source": [
    "Some $\\LaTeX$ commands:\n",
    "$$\n",
    "\\newcommand{\\dd}{\\mathrm{d}}\n",
    "\\newcommand{\\diff}[2]{\\frac{\\dd #1}{\\dd #2}}\n",
    "$$"
   ]
  },
  {
   "cell_type": "code",
   "execution_count": 1,
   "metadata": {},
   "outputs": [
    {
     "name": "stdout",
     "output_type": "stream",
     "text": [
      "Populating the interactive namespace from numpy and matplotlib\n"
     ]
    }
   ],
   "source": [
    "%pylab inline\n",
    "%config InlineBackend.figure_format = 'retina'\n",
    "\n",
    "import sys\n",
    "\n",
    "d = '/Users/wfarr/Research/CBCPopulation/O2Populations/code'\n",
    "try:\n",
    "    sys.path.index(d)\n",
    "except ValueError:\n",
    "    sys.path.append(d)\n",
    "    \n",
    "import astropy.cosmology as cosmo\n",
    "from astropy.cosmology import Planck15\n",
    "import astropy.units as u\n",
    "import matplotlib.gridspec as gridspec\n",
    "import h5py\n",
    "from itertools import cycle\n",
    "from mpl_toolkits.axes_grid1 import make_axes_locatable\n",
    "import multiprocessing as multi\n",
    "import os\n",
    "import vt\n",
    "from scipy.integrate import cumtrapz\n",
    "from scipy.interpolate import interp1d, RectBivariateSpline\n",
    "from scipy.stats import gaussian_kde\n",
    "import seaborn as sns\n",
    "from tqdm import tqdm, tqdm_notebook\n",
    "\n",
    "sns.set_context('notebook')\n",
    "sns.set_style('ticks')\n",
    "sns.set_palette('colorblind')"
   ]
  },
  {
   "cell_type": "markdown",
   "metadata": {},
   "source": [
    "Some settings to make plots for publication:"
   ]
  },
  {
   "cell_type": "code",
   "execution_count": 2,
   "metadata": {},
   "outputs": [],
   "source": [
    "colwidth_pt = 242.26653\n",
    "pt_per_inch = 72.0\n",
    "colwidth = colwidth_pt / pt_per_inch"
   ]
  },
  {
   "cell_type": "markdown",
   "metadata": {},
   "source": [
    "This analysis is very similar to [Farr, et al. (2017)](https://ui.adsabs.harvard.edu/abs/2017Natur.548..426F/abstract), except that we are going to incorporate selection effects (since they are a strong function of mass).  For the latter, see [Mandel, Farr & Gair (2018)](https://ui.adsabs.harvard.edu/abs/2019MNRAS.tmp..870M/abstract) and references therein.\n",
    "\n",
    "We have a (collection of) zero-parameter model(s) that predict the mass distribution of merging black holes (and, eventually, the redshift distribution).  We wish to compare them to gravitational wave data, $\\mathbf{d}$, consisting of a catalog of detections, $i = 1, \\ldots, N_\\mathrm{det}$, each with data $d_i$; the catalog consists of events that pass a selection / detection threshold, which is why we need to incorporate selection effects.  The Bayseian posterior probability of model $M$ in this case is given by \n",
    "$$\n",
    "p\\left( M \\mid \\mathbf{d} \\right) \\propto p\\left( \\mathbf{d} \\mid M \\right) p\\left( M \\right).\n",
    "$$\n",
    "$p\\left( \\mathbf{d} \\mid M \\right)$ is sometimes known as the \"Bayes factor;\" it is the *likelihood* of model $M$ given the observed data.  $p(M)$ is the prior probability of model $M$, which we are free to assign based on our experience and intuition; in the absence of any good reason to do otherwise, it is common to take $p(M) \\propto \\mathrm{const}$.  (An example of a good reason to deviate from this might be if you produced a very large number of models with physically similar setups, and only a single model with an outlier setup---say 100 models of \"field\" binary formation with differing parameters and a single \"cluster\" model---then you might want to weight the two *classes* equally, and then each model w/i class equally.)\n",
    "\n",
    "To compute $p\\left( \\mathbf{d} \\mid M \\right)$, we usually assume that the likelihoods of the individual events are independent (this is appropriate as long as the noise surrounding each event is independent, which is what we see in LIGO).  Under this assumption,\n",
    "$$\n",
    "p\\left( \\mathbf{d} \\mid M \\right) = \\prod_{i=1}^{N_\\mathrm{det}} p\\left( d_i \\mid M \\right).\n",
    "$$\n",
    "Each model makes predictions about the masses of the merging binaries (we are, for the moment, ignoring the merger redshifts/lookback times that are predicted and instead imposing a fixed merger rate distribution, though we can incorporate them later).  The GW likelihood depends on these masses, so we have \n",
    "$$\n",
    "p\\left( d_i \\mid M \\right) = \\frac{\\int \\, \\dd m_1 \\, \\dd m_2 \\, \\dd z \\, p\\left( d_i \\mid m_1, m_2 \\right) p\\left( m_1, m_2 \\mid M \\right)}{\\int \\, \\dd m_1 \\, \\dd m_2 \\, \\dd z \\, P_\\mathrm{det}\\left( m_1, m_2, z \\right) p\\left( m_1, m_2 \\mid M \\right) p\\left( z \\mid M \\right)};\n",
    "$$\n",
    "here the numerator is the likelihood of the LIGO data given the masses predicted by the model $M$, and the denominator is the correction for the selection function and gives the average detectability (fraction of detected events) for the model population.\n",
    "\n",
    "The denominator is independent of the data, $d_i$, and common to all events.  It can be pre-computed, most easily via Monte-Carlo: we will assign a redshift randomly to your set of events, calculate $P_\\mathrm{det}$ following [Abbott, et al. (2016)](https://ui.adsabs.harvard.edu/abs/2016ApJS..227...14A/abstract), and average.\n",
    "\n",
    "The numerator can also be computed via Monte-Carlo using parameter estimation samples from [Abbott, et al. (2018)](https://ui.adsabs.harvard.edu/abs/2018arXiv181112907T/abstract).  Those are drawn from a posterior density that incorporates the likelihood and a prior, $p_\\mathrm{PE}\\left( m_1, m_2, z \\right)$:\n",
    "$$\n",
    "m_1, m_2, z \\sim p\\left( d_i \\mid m_1, m_2, z \\right) p_\\mathrm{PE} \\left( m_1, m_2, z \\right),\n",
    "$$\n",
    "so the likelihood integral that we need can be computed via \n",
    "$$\n",
    "\\int \\, \\dd m_1 \\, \\dd m_2 \\, \\dd z \\, p\\left( d_i \\mid m_1, m_2, z \\right) p\\left( m_1, m_2, z \\mid M \\right) = \\int \\, \\dd m_1 \\, \\dd m_2 \\, \\dd z \\, p\\left( d_i \\mid m_1, m_2, z \\right) p_\\mathrm{PE}\\left( m_1, m_2, z \\right) \\frac{p\\left( m_1, m_2, z \\mid M \\right)}{p_\\mathrm{PE}\\left( m_1, m_2, z \\right)} \\propto \\left\\langle \\frac{p\\left( m_1, m_2, z \\mid M \\right)}{p_\\mathrm{PE}\\left( m_1, m_2, z \\right)} \\right\\rangle,\n",
    "$$\n",
    "where the final average is taken over the PE samples.  The PE prior is uniform in the *detector-frame* masses and proportional to $d_L^2$, so in *source-frame* masses and redshift, it is \n",
    "$$\n",
    "p_\\mathrm{PE} \\left( m_1, m_2, z \\right) \\propto \\left( 1 + z \\right)^2 d_L^2 \\diff{d_L}{z}\n",
    "$$\n",
    "\n",
    "The final choice is in how we compute $p\\left( m_1 , m_2 , z \\mid M \\right)$.  The redshift distribution we are imposing is analytic, with \n",
    "$$\n",
    "p\\left( z \\right) \\propto \\diff{V}{z} \\left( 1 + z \\right)^{\\lambda - 1},\n",
    "$$\n",
    "with $\\lambda = 0$ giving constant merger rate in the comoving frame and $\\lambda \\simeq 3$ tracking the star formation rate.  For the mass distribution, I implement a KDE in a unconstrained parameter space, $(x,y)$, defined by \n",
    "$$\n",
    "x = \\log m_1\n",
    "$$\n",
    "and\n",
    "$$\n",
    "y = \\log m_2 - \\log \\left( m_1 - m_2 \\right),\n",
    "$$\n",
    "whence\n",
    "$$\n",
    "p\\left( m_1, m_2, z \\mid M \\right) \\propto \\diff{V}{z} \\left( 1 + z \\right)^{\\lambda - 1} \\mathrm{KDE}\\left( x, y \\right) \\frac{1}{m_1} \\left( \\frac{1}{m_2} + \\frac{1}{m_1 - m_2} \\right).\n",
    "$$\n",
    "\n",
    "The following cells implement bits of this calculation."
   ]
  },
  {
   "cell_type": "code",
   "execution_count": 3,
   "metadata": {},
   "outputs": [],
   "source": [
    "def make_kde(m1, m2):\n",
    "    mh = where(m1 > m2, m1, m2)\n",
    "    ml = where(m1 > m2, m2, m1)\n",
    "    \n",
    "    x = log(mh)\n",
    "    y = log(ml) - log(mh-ml)\n",
    "    \n",
    "    return gaussian_kde(row_stack((x, y)))\n",
    "\n",
    "def make_zdist(l, zmax):\n",
    "    zs = expm1(linspace(0, log(zmax+1), 1000))\n",
    "    pz = Planck15.differential_comoving_volume(zs).to(u.Gpc**3/u.sr).value * (1+zs)**(l-1)\n",
    "    norm = trapz(pz, zs)\n",
    "    pz /= norm\n",
    "    \n",
    "    return interp1d(zs, pz)\n",
    "\n",
    "def p_pe(m1, m2, z):\n",
    "    return (1+z)**2*Planck15.luminosity_distance(z).to(u.Gpc).value**2*(Planck15.comoving_distance(z).to(u.Gpc).value + (1+z)*Planck15.hubble_distance.to(u.Gpc).value/Planck15.efunc(z))\n",
    "\n",
    "def make_pm1m2z(m1, m2, l, zmax):\n",
    "    k = make_kde(m1, m2)\n",
    "    zd = make_zdist(l, zmax)\n",
    "    \n",
    "    def pm1m2z(m1, m2, z):\n",
    "        pz = zd(z)\n",
    "        x = log(m1)\n",
    "        y = log(m2) - log(m1-m2)\n",
    "        pk = k(row_stack((x, y)))\n",
    "        \n",
    "        return pz*pk/m1*(1/m2 + 1/(m1-m2))\n",
    "    \n",
    "    return pm1m2z"
   ]
  },
  {
   "cell_type": "markdown",
   "metadata": {},
   "source": [
    "Before we do anything else, let's set up a grid in *detector* mass giving the optimal SNR at $1 \\, \\mathrm{Gpc}$; this will let us interpolate to find the optimal SNR at any mass and distance (since $\\rho$ scales as $1/d_L$ at fixed detector frame mass).\n",
    "\n",
    "This cell saves its results to an HDF5 file (it takes a few minutes to run); the next cell loads the file and constructs the optimal SNR calculator, and can be executed without re-generating the optimal SNR grid."
   ]
  },
  {
   "cell_type": "code",
   "execution_count": 4,
   "metadata": {},
   "outputs": [
    {
     "data": {
      "application/vnd.jupyter.widget-view+json": {
       "model_id": "7e04db72875e4210b0d43dd64d8309ec",
       "version_major": 2,
       "version_minor": 0
      },
      "text/plain": [
       "HBox(children=(IntProgress(value=0, max=10000), HTML(value='')))"
      ]
     },
     "metadata": {},
     "output_type": "display_data"
    },
    {
     "name": "stdout",
     "output_type": "stream",
     "text": [
      "\n"
     ]
    }
   ],
   "source": [
    "z1gpc = cosmo.z_at_value(Planck15.luminosity_distance, 1*u.Gpc)\n",
    "\n",
    "ms = exp(linspace(log(1), log(100), 100))\n",
    "M1S, M2S = meshgrid(ms, ms, indexing='ij')\n",
    "def osm1m2(m1m2):\n",
    "    m1, m2 = m1m2\n",
    "    m1s = m1/(1+z1gpc)\n",
    "    m2s = m2/(1+z1gpc)\n",
    "    \n",
    "    return vt.optimal_snr(m1s, m2s, z1gpc)\n",
    "\n",
    "pool = multi.Pool()\n",
    "try:\n",
    "    OSS = array(list(tqdm_notebook(pool.imap(osm1m2, zip(M1S.ravel(), M2S.ravel())), total=len(M1S.ravel()))))\n",
    "    OSS = reshape(OSS, M1S.shape)\n",
    "finally:\n",
    "    pool.close()\n",
    "    \n",
    "with h5py.File('optimal_snr.h5', 'w') as out:\n",
    "    out.create_dataset('ms', data=ms, compression='gzip', shuffle=True)\n",
    "    out.create_dataset('osnrs', data=OSS, compression='gzip', shuffle=True)"
   ]
  },
  {
   "cell_type": "code",
   "execution_count": 5,
   "metadata": {},
   "outputs": [],
   "source": [
    "with h5py.File('optimal_snr.h5', 'r') as f:\n",
    "    ms = array(f['ms'])\n",
    "    OSS = array(f['osnrs'])\n",
    "\n",
    "M1S, M2S = meshgrid(ms, ms, indexing='ij')\n",
    "\n",
    "oint = RectBivariateSpline(ms, ms, OSS)\n",
    "\n",
    "def optimal_snr(m1, m2, z):\n",
    "    m1d = m1*(1+z)\n",
    "    m2d = m2*(1+z)\n",
    "    \n",
    "    dl = Planck15.luminosity_distance(z).to(u.Gpc).value\n",
    "    \n",
    "    return oint.ev(m1d, m2d)/dl"
   ]
  },
  {
   "cell_type": "code",
   "execution_count": 6,
   "metadata": {},
   "outputs": [
    {
     "data": {
      "text/plain": [
       "(1.5204462121427074, 1.5204461453759621)"
      ]
     },
     "execution_count": 6,
     "metadata": {},
     "output_type": "execute_result"
    }
   ],
   "source": [
    "optimal_snr(5,5,0.6), vt.optimal_snr(5,5,0.6)"
   ]
  },
  {
   "cell_type": "markdown",
   "metadata": {},
   "source": [
    "I grabbed the posterior sample files from https://dcc.ligo.org/LIGO-P1800370/public; here we load them up:"
   ]
  },
  {
   "cell_type": "code",
   "execution_count": 7,
   "metadata": {},
   "outputs": [
    {
     "data": {
      "application/vnd.jupyter.widget-view+json": {
       "model_id": "78a8ff3ce2e1445eb4a9660cdce8ef39",
       "version_major": 2,
       "version_minor": 0
      },
      "text/plain": [
       "HBox(children=(IntProgress(value=0, max=10), HTML(value='')))"
      ]
     },
     "metadata": {},
     "output_type": "display_data"
    },
    {
     "name": "stdout",
     "output_type": "stream",
     "text": [
      "\n"
     ]
    }
   ],
   "source": [
    "postsamples = {}\n",
    "z = expm1(linspace(0, log(4), 1000))\n",
    "d = Planck15.luminosity_distance(z).to(u.Mpc).value\n",
    "z_of_d = interp1d(d, z)\n",
    "for f in tqdm_notebook(os.listdir('GWTC-1_sample_release')):\n",
    "    name = f[:8]\n",
    "    with h5py.File(os.path.join('GWTC-1_sample_release', f), 'r') as f:\n",
    "        dl = array(f['Overall_posterior']['luminosity_distance_Mpc'])\n",
    "        z = z_of_d(dl)\n",
    "        m1 = array(f['Overall_posterior']['m1_detector_frame_Msun'])/(1+z)\n",
    "        m2 = array(f['Overall_posterior']['m2_detector_frame_Msun'])/(1+z)\n",
    "        \n",
    "        postsamples[name] = (m1, m2, z)"
   ]
  },
  {
   "cell_type": "markdown",
   "metadata": {},
   "source": [
    "Here we load the data from Yihan's cluster runs.  We choose a single $M_\\mathrm{max}$ value; different choices of $M_\\mathrm{max}$ live in different directories.  The alpha parameters differ among the directories as well, so must be modified by hand to match the filenames."
   ]
  },
  {
   "cell_type": "code",
   "execution_count": 8,
   "metadata": {},
   "outputs": [
    {
     "data": {
      "application/vnd.jupyter.widget-view+json": {
       "model_id": "2c581ea2f6154d178353dd3b80289a4f",
       "version_major": 2,
       "version_minor": 0
      },
      "text/plain": [
       "HBox(children=(IntProgress(value=0, max=10), HTML(value='')))"
      ]
     },
     "metadata": {},
     "output_type": "display_data"
    },
    {
     "name": "stdout",
     "output_type": "stream",
     "text": [
      "\n",
      "1 153\n",
      "1.5 185\n",
      "2 127\n",
      "2.35 278\n",
      "2.5 145\n",
      "3 145\n",
      "3.5 118\n",
      "4 188\n",
      "4.5 149\n",
      "5 116\n"
     ]
    }
   ],
   "source": [
    "clusters = {}\n",
    "for a in tqdm_notebook([1, 1.5, 2, 2.35, 2.5, 3, 3.5, 4, 4.5, 5]):\n",
    "    c = loadtxt('Clusters_MMax_50/small_cluster_{:g}.dat'.format(a), dtype=np.dtype([('m1', np.float), ('m2', np.float), ('a', np.float), ('e', np.float), ('tgw', np.float)]))\n",
    "    clusters[a] = c[c['tgw'] < 1e10]\n",
    "for k, v in clusters.items():\n",
    "    print(k, len(v))"
   ]
  },
  {
   "cell_type": "markdown",
   "metadata": {},
   "source": [
    "We need to have a redshift distribution over all the possible samples we have from PE.  We also need to make sure that $P_\\mathrm{det}\\left( z_\\mathrm{max} \\right) = 0$.  In fact, the posterior on redshift for GW170729 extends past the GW detection horizon for the selection function we are using; this tells us that the selection function is wrong, but we have checked whether this makes a difference for our analyses in LIGO (we use the same approximation sometimes), and it doesn't seem to."
   ]
  },
  {
   "cell_type": "code",
   "execution_count": 9,
   "metadata": {},
   "outputs": [
    {
     "name": "stdout",
     "output_type": "stream",
     "text": [
      "zMax = 0.99\n"
     ]
    }
   ],
   "source": [
    "zMax = 1.1*max(*[np.max(p[2]) for p in postsamples.values()])\n",
    "print('zMax = {:.2f}'.format(zMax))"
   ]
  },
  {
   "cell_type": "markdown",
   "metadata": {},
   "source": [
    "Set this to $\\lambda = 0$ for constant merger rate in the comoving frame; $\\lambda = 3$ for something that roughly tracks the SFR."
   ]
  },
  {
   "cell_type": "code",
   "execution_count": 10,
   "metadata": {},
   "outputs": [],
   "source": [
    "lams = [0, 1, 2, 3, 4, 5, 6]"
   ]
  },
  {
   "cell_type": "markdown",
   "metadata": {},
   "source": [
    "The computation of the average detectability is a bit tricky.  We follow [Farr (2019, in prep)](https://github.com/farr/SelectionAccuracy) and draw a sample of detected systems according to a simple distribution, $p_\\mathrm{draw}$; then by the basic rules of Monte-Carlo integration the denominator in the likelihood is given by \n",
    "$$\n",
    "\\left \\langle P_\\mathrm{det} \\right\\rangle = \\left\\langle \\frac{p\\left( m_1, m_2 \\mid M \\right) p\\left( z \\mid M \\right) }{p_\\mathrm{draw}\\left( m_1, m_2, z \\right)} \\right\\rangle_{\\left\\{ m_1, m_2, z \\in \\mathrm{draws} \\right\\}}.\n",
    "$$\n",
    "(We actually use a correction to the formula that incorporates the leading-order finite-$N$ effect; see Farr (2019) above.)\n",
    "\n",
    "We can also estimate the Monte-Carlo uncertainty in the integral; Farr (2019) shows that we get reliable parameter estimates as long as \n",
    "$$\n",
    "\\frac{\\left\\langle P^2_\\mathrm{det} \\right\\rangle}{\\sigma^2_{P_\\mathrm{det}}} \\equiv N_\\mathrm{eff} \\gg 4 N_\\mathrm{det} = 40.\n",
    "$$\n",
    "\n",
    "The number of draws is chosen to ensure that $N_\\mathrm{eff} \\gtrsim 2 \\times 4 N_\\mathrm{det} \\simeq 80$ with the distribution of masses and redshifts we have chosen."
   ]
  },
  {
   "cell_type": "code",
   "execution_count": 11,
   "metadata": {},
   "outputs": [
    {
     "data": {
      "application/vnd.jupyter.widget-view+json": {
       "model_id": "5fafd0cdf6244556a201b1d7e43945b8",
       "version_major": 2,
       "version_minor": 0
      },
      "text/plain": [
       "HBox(children=(IntProgress(value=0, max=50000), HTML(value='')))"
      ]
     },
     "metadata": {},
     "output_type": "display_data"
    },
    {
     "name": "stdout",
     "output_type": "stream",
     "text": [
      "\n"
     ]
    }
   ],
   "source": [
    "Ndraw = 0\n",
    "Ndesired = 50000\n",
    "\n",
    "MMin = 1\n",
    "MMax = 100\n",
    "\n",
    "snr_thresh = 8\n",
    "\n",
    "m1_det = []\n",
    "m2_det = []\n",
    "z_det = []\n",
    "wt_det = []\n",
    "\n",
    "with tqdm_notebook(total=Ndesired) as bar:\n",
    "    while len(m1_det) < Ndesired:\n",
    "        m1 = exp(log(MMin) + log(MMax/MMin)*rand())  # Flat in log(m1)\n",
    "        m2 = MMin + (m1 - MMin)*rand()  # Flat from MMin to m1\n",
    "        z = expm1(log(1) + log((1+zMax)/1)*rand()) # Flat in log(1+z)\n",
    "                \n",
    "        Ndraw += 1\n",
    "        \n",
    "        rho_true = random.choice(vt.thetas)*optimal_snr(m1, m2, z)\n",
    "        rho = rho_true + randn()\n",
    "        \n",
    "        if rho > snr_thresh:\n",
    "            # These need to be normalized or else the integral does not compute <Pdet> (though it would still work)\n",
    "            pm1 = 1.0/(m1*log(MMax/MMin))  \n",
    "            pm2 = 1.0/(m1 - MMin)\n",
    "            pz = 1.0/((1+z)*log((1+zMax)/1))\n",
    "            \n",
    "            m1_det.append(m1)\n",
    "            m2_det.append(m2)\n",
    "            z_det.append(z)\n",
    "            wt_det.append(pm1*pm2*pz)\n",
    "            \n",
    "            bar.update(1)\n",
    "            \n",
    "m1_det = array(m1_det)\n",
    "m2_det = array(m2_det)\n",
    "z_det = array(z_det)\n",
    "wt_det = array(wt_det)"
   ]
  },
  {
   "cell_type": "markdown",
   "metadata": {},
   "source": [
    "Here we compute the average detection probability for each of the cluster populations:"
   ]
  },
  {
   "cell_type": "code",
   "execution_count": 12,
   "metadata": {},
   "outputs": [],
   "source": [
    "def mean_pdet(m1, m2, lam, zMax):\n",
    "    pm1m2z = make_pm1m2z(m1, m2, lam, zMax)\n",
    "    \n",
    "    pds = pm1m2z(m1_det, m2_det, z_det) / wt_det\n",
    "    \n",
    "    mu = np.sum(pds)/Ndraw\n",
    "    sigma2 = pds.shape[0]*np.var(pds)/Ndraw**2\n",
    "    \n",
    "    Neff = mu*mu/sigma2\n",
    "    \n",
    "    return mu, Neff"
   ]
  },
  {
   "cell_type": "code",
   "execution_count": 13,
   "metadata": {},
   "outputs": [
    {
     "data": {
      "application/vnd.jupyter.widget-view+json": {
       "model_id": "b98586b52c784705b8e4f6498842eafd",
       "version_major": 2,
       "version_minor": 0
      },
      "text/plain": [
       "HBox(children=(IntProgress(value=0, max=10), HTML(value='')))"
      ]
     },
     "metadata": {},
     "output_type": "display_data"
    },
    {
     "name": "stdout",
     "output_type": "stream",
     "text": [
      "For slope 1, lambda = 0, <Pdet> = 0.021118 and Neff = 4623.82\n",
      "For slope 1, lambda = 1, <Pdet> = 0.0156968 and Neff = 3817.41\n",
      "For slope 1, lambda = 2, <Pdet> = 0.011587 and Neff = 3096.51\n",
      "For slope 1, lambda = 3, <Pdet> = 0.00851449 and Neff = 2471.07\n",
      "For slope 1, lambda = 4, <Pdet> = 0.00624226 and Neff = 1944.25\n",
      "For slope 1, lambda = 5, <Pdet> = 0.00457502 and Neff = 1512.61\n",
      "For slope 1, lambda = 6, <Pdet> = 0.00335801 and Neff = 1167.56\n",
      "For slope 1.5, lambda = 0, <Pdet> = 0.0122771 and Neff = 7461.2\n",
      "For slope 1.5, lambda = 1, <Pdet> = 0.00888926 and Neff = 6386.47\n",
      "For slope 1.5, lambda = 2, <Pdet> = 0.00638372 and Neff = 5371.9\n",
      "For slope 1.5, lambda = 3, <Pdet> = 0.004558 and Neff = 4437.32\n",
      "For slope 1.5, lambda = 4, <Pdet> = 0.00324317 and Neff = 3599.79\n",
      "For slope 1.5, lambda = 5, <Pdet> = 0.0023046 and Neff = 2871.01\n",
      "For slope 1.5, lambda = 6, <Pdet> = 0.00163869 and Neff = 2255.54\n",
      "For slope 2, lambda = 0, <Pdet> = 0.00918214 and Neff = 8841.83\n",
      "For slope 2, lambda = 1, <Pdet> = 0.00661504 and Neff = 7617.24\n",
      "For slope 2, lambda = 2, <Pdet> = 0.00472786 and Neff = 6437.44\n",
      "For slope 2, lambda = 3, <Pdet> = 0.00336053 and Neff = 5333.76\n",
      "For slope 2, lambda = 4, <Pdet> = 0.00238113 and Neff = 4333.73\n",
      "For slope 2, lambda = 5, <Pdet> = 0.00168552 and Neff = 3457.42\n",
      "For slope 2, lambda = 6, <Pdet> = 0.00119433 and Neff = 2714.76\n",
      "For slope 2.35, lambda = 0, <Pdet> = 0.00492799 and Neff = 8138.95\n",
      "For slope 2.35, lambda = 1, <Pdet> = 0.00343152 and Neff = 7307.1\n",
      "For slope 2.35, lambda = 2, <Pdet> = 0.00236557 and Neff = 6451.42\n",
      "For slope 2.35, lambda = 3, <Pdet> = 0.00161837 and Neff = 5585.3\n",
      "For slope 2.35, lambda = 4, <Pdet> = 0.00110137 and Neff = 4727.81\n",
      "For slope 2.35, lambda = 5, <Pdet> = 0.000747284 and Neff = 3903.39\n",
      "For slope 2.35, lambda = 6, <Pdet> = 0.000506576 and Neff = 3139.15\n",
      "For slope 2.5, lambda = 0, <Pdet> = 0.00468774 and Neff = 8182.27\n",
      "For slope 2.5, lambda = 1, <Pdet> = 0.0032563 and Neff = 7388.5\n",
      "For slope 2.5, lambda = 2, <Pdet> = 0.00223888 and Neff = 6581.13\n",
      "For slope 2.5, lambda = 3, <Pdet> = 0.00152734 and Neff = 5768.37\n",
      "For slope 2.5, lambda = 4, <Pdet> = 0.00103624 and Neff = 4961.67\n",
      "For slope 2.5, lambda = 5, <Pdet> = 0.000700764 and Neff = 4176.54\n",
      "For slope 2.5, lambda = 6, <Pdet> = 0.000473356 and Neff = 3432.29\n",
      "For slope 3, lambda = 0, <Pdet> = 0.00268508 and Neff = 5400.3\n",
      "For slope 3, lambda = 1, <Pdet> = 0.001801 and Neff = 5022.32\n",
      "For slope 3, lambda = 2, <Pdet> = 0.00119199 and Neff = 4641.23\n",
      "For slope 3, lambda = 3, <Pdet> = 0.000780075 and Neff = 4259.36\n",
      "For slope 3, lambda = 4, <Pdet> = 0.000505787 and Neff = 3879.46\n",
      "For slope 3, lambda = 5, <Pdet> = 0.000325513 and Neff = 3504.62\n",
      "For slope 3, lambda = 6, <Pdet> = 0.000208291 and Neff = 3138.23\n",
      "For slope 3.5, lambda = 0, <Pdet> = 0.00201102 and Neff = 5785.37\n",
      "For slope 3.5, lambda = 1, <Pdet> = 0.00133743 and Neff = 5484.24\n",
      "For slope 3.5, lambda = 2, <Pdet> = 0.000877581 and Neff = 5162.11\n",
      "For slope 3.5, lambda = 3, <Pdet> = 0.000569369 and Neff = 4818.09\n",
      "For slope 3.5, lambda = 4, <Pdet> = 0.000366 and Neff = 4452.17\n",
      "For slope 3.5, lambda = 5, <Pdet> = 0.000233554 and Neff = 4065.57\n",
      "For slope 3.5, lambda = 6, <Pdet> = 0.000148215 and Neff = 3661.13\n",
      "For slope 4, lambda = 0, <Pdet> = 0.00181947 and Neff = 6171.85\n",
      "For slope 4, lambda = 1, <Pdet> = 0.00121757 and Neff = 5982.12\n",
      "For slope 4, lambda = 2, <Pdet> = 0.000805205 and Neff = 5751.44\n",
      "For slope 4, lambda = 3, <Pdet> = 0.000527525 and Neff = 5467.57\n",
      "For slope 4, lambda = 4, <Pdet> = 0.000343195 and Neff = 5117.7\n",
      "For slope 4, lambda = 5, <Pdet> = 0.000222231 and Neff = 4691.78\n",
      "For slope 4, lambda = 6, <Pdet> = 0.000143549 and Neff = 4187.94\n",
      "For slope 4.5, lambda = 0, <Pdet> = 0.00110152 and Neff = 2012.56\n",
      "For slope 4.5, lambda = 1, <Pdet> = 0.000711753 and Neff = 1936.5\n",
      "For slope 4.5, lambda = 2, <Pdet> = 0.000452825 and Neff = 1858.54\n",
      "For slope 4.5, lambda = 3, <Pdet> = 0.000284208 and Neff = 1778.6\n",
      "For slope 4.5, lambda = 4, <Pdet> = 0.000176295 and Neff = 1696.56\n",
      "For slope 4.5, lambda = 5, <Pdet> = 0.00010826 and Neff = 1612.28\n",
      "For slope 4.5, lambda = 6, <Pdet> = 6.59133e-05 and Neff = 1525.66\n",
      "For slope 5, lambda = 0, <Pdet> = 0.000988074 and Neff = 1819.95\n",
      "For slope 5, lambda = 1, <Pdet> = 0.000636919 and Neff = 1752.67\n",
      "For slope 5, lambda = 2, <Pdet> = 0.000404228 and Neff = 1683.33\n",
      "For slope 5, lambda = 3, <Pdet> = 0.000253079 and Neff = 1611.81\n",
      "For slope 5, lambda = 4, <Pdet> = 0.000156591 and Neff = 1537.95\n",
      "For slope 5, lambda = 5, <Pdet> = 9.59146e-05 and Neff = 1461.58\n",
      "For slope 5, lambda = 6, <Pdet> = 5.82459e-05 and Neff = 1382.57\n",
      "\n"
     ]
    }
   ],
   "source": [
    "mean_pdets = {}\n",
    "for k, c in tqdm_notebook(clusters.items()):\n",
    "    for l in lams:\n",
    "        mean_pdets[(k,l)] = mean_pdet(c['m1'], c['m2'], l, zMax)\n",
    "        mu, N = mean_pdets[(k,l)]\n",
    "        print('For slope {:g}, lambda = {:g}, <Pdet> = {:g} and Neff = {:g}'.format(k, l, mu, N))"
   ]
  },
  {
   "cell_type": "markdown",
   "metadata": {},
   "source": [
    "And here we compute the log-probability (evidence) for each cluster population; c.f. formulas above."
   ]
  },
  {
   "cell_type": "code",
   "execution_count": 14,
   "metadata": {},
   "outputs": [
    {
     "data": {
      "application/vnd.jupyter.widget-view+json": {
       "model_id": "1357ef66dfbf4241bbd81d07de7bf07a",
       "version_major": 2,
       "version_minor": 0
      },
      "text/plain": [
       "HBox(children=(IntProgress(value=0, description='Clusters', max=10, style=ProgressStyle(description_width='ini…"
      ]
     },
     "metadata": {},
     "output_type": "display_data"
    },
    {
     "data": {
      "application/vnd.jupyter.widget-view+json": {
       "model_id": "611af96ac77544929b8a357293d526a6",
       "version_major": 2,
       "version_minor": 0
      },
      "text/plain": [
       "HBox(children=(IntProgress(value=0, description='Redshifts', max=7, style=ProgressStyle(description_width='ini…"
      ]
     },
     "metadata": {},
     "output_type": "display_data"
    },
    {
     "data": {
      "application/vnd.jupyter.widget-view+json": {
       "model_id": "9f17bc446e9b4da2b6ae98f8e5313805",
       "version_major": 2,
       "version_minor": 0
      },
      "text/plain": [
       "HBox(children=(IntProgress(value=0, description='Events', max=10, style=ProgressStyle(description_width='initi…"
      ]
     },
     "metadata": {},
     "output_type": "display_data"
    },
    {
     "data": {
      "application/vnd.jupyter.widget-view+json": {
       "model_id": "26dd1a744d4441b6955eb8028b59c471",
       "version_major": 2,
       "version_minor": 0
      },
      "text/plain": [
       "HBox(children=(IntProgress(value=0, description='Events', max=10, style=ProgressStyle(description_width='initi…"
      ]
     },
     "metadata": {},
     "output_type": "display_data"
    },
    {
     "data": {
      "application/vnd.jupyter.widget-view+json": {
       "model_id": "44e560deea9b4d21a90add7da655e09e",
       "version_major": 2,
       "version_minor": 0
      },
      "text/plain": [
       "HBox(children=(IntProgress(value=0, description='Events', max=10, style=ProgressStyle(description_width='initi…"
      ]
     },
     "metadata": {},
     "output_type": "display_data"
    },
    {
     "data": {
      "application/vnd.jupyter.widget-view+json": {
       "model_id": "164157efc02e4608b77318989bc8e246",
       "version_major": 2,
       "version_minor": 0
      },
      "text/plain": [
       "HBox(children=(IntProgress(value=0, description='Events', max=10, style=ProgressStyle(description_width='initi…"
      ]
     },
     "metadata": {},
     "output_type": "display_data"
    },
    {
     "data": {
      "application/vnd.jupyter.widget-view+json": {
       "model_id": "6b6779871cf14d319908a0656e26a81e",
       "version_major": 2,
       "version_minor": 0
      },
      "text/plain": [
       "HBox(children=(IntProgress(value=0, description='Events', max=10, style=ProgressStyle(description_width='initi…"
      ]
     },
     "metadata": {},
     "output_type": "display_data"
    },
    {
     "data": {
      "application/vnd.jupyter.widget-view+json": {
       "model_id": "aecf938574ea4d2da6c5f04dde52f3cc",
       "version_major": 2,
       "version_minor": 0
      },
      "text/plain": [
       "HBox(children=(IntProgress(value=0, description='Events', max=10, style=ProgressStyle(description_width='initi…"
      ]
     },
     "metadata": {},
     "output_type": "display_data"
    },
    {
     "data": {
      "application/vnd.jupyter.widget-view+json": {
       "model_id": "918485de7e7f4eea9dbbc1e9c7f30510",
       "version_major": 2,
       "version_minor": 0
      },
      "text/plain": [
       "HBox(children=(IntProgress(value=0, description='Events', max=10, style=ProgressStyle(description_width='initi…"
      ]
     },
     "metadata": {},
     "output_type": "display_data"
    },
    {
     "data": {
      "application/vnd.jupyter.widget-view+json": {
       "model_id": "4f6d74dec131484cb718b3914decc298",
       "version_major": 2,
       "version_minor": 0
      },
      "text/plain": [
       "HBox(children=(IntProgress(value=0, description='Redshifts', max=7, style=ProgressStyle(description_width='ini…"
      ]
     },
     "metadata": {},
     "output_type": "display_data"
    },
    {
     "data": {
      "application/vnd.jupyter.widget-view+json": {
       "model_id": "429b0601768647ca9e7e6281151646b0",
       "version_major": 2,
       "version_minor": 0
      },
      "text/plain": [
       "HBox(children=(IntProgress(value=0, description='Events', max=10, style=ProgressStyle(description_width='initi…"
      ]
     },
     "metadata": {},
     "output_type": "display_data"
    },
    {
     "data": {
      "application/vnd.jupyter.widget-view+json": {
       "model_id": "03e4f89b304d418d988dcbc5a0cae47e",
       "version_major": 2,
       "version_minor": 0
      },
      "text/plain": [
       "HBox(children=(IntProgress(value=0, description='Events', max=10, style=ProgressStyle(description_width='initi…"
      ]
     },
     "metadata": {},
     "output_type": "display_data"
    },
    {
     "data": {
      "application/vnd.jupyter.widget-view+json": {
       "model_id": "58eb7c9c43f34ef29d3e68c2cfa82614",
       "version_major": 2,
       "version_minor": 0
      },
      "text/plain": [
       "HBox(children=(IntProgress(value=0, description='Events', max=10, style=ProgressStyle(description_width='initi…"
      ]
     },
     "metadata": {},
     "output_type": "display_data"
    },
    {
     "data": {
      "application/vnd.jupyter.widget-view+json": {
       "model_id": "4b662c43ed5c4f5890ab95020fd853cd",
       "version_major": 2,
       "version_minor": 0
      },
      "text/plain": [
       "HBox(children=(IntProgress(value=0, description='Events', max=10, style=ProgressStyle(description_width='initi…"
      ]
     },
     "metadata": {},
     "output_type": "display_data"
    },
    {
     "data": {
      "application/vnd.jupyter.widget-view+json": {
       "model_id": "2b27b24a72d54ca483263799a710c4e8",
       "version_major": 2,
       "version_minor": 0
      },
      "text/plain": [
       "HBox(children=(IntProgress(value=0, description='Events', max=10, style=ProgressStyle(description_width='initi…"
      ]
     },
     "metadata": {},
     "output_type": "display_data"
    },
    {
     "data": {
      "application/vnd.jupyter.widget-view+json": {
       "model_id": "aade53e9c7e8453cb920a87b3e941abf",
       "version_major": 2,
       "version_minor": 0
      },
      "text/plain": [
       "HBox(children=(IntProgress(value=0, description='Events', max=10, style=ProgressStyle(description_width='initi…"
      ]
     },
     "metadata": {},
     "output_type": "display_data"
    },
    {
     "data": {
      "application/vnd.jupyter.widget-view+json": {
       "model_id": "d65ccfc305d744359187ec0a529b3dba",
       "version_major": 2,
       "version_minor": 0
      },
      "text/plain": [
       "HBox(children=(IntProgress(value=0, description='Events', max=10, style=ProgressStyle(description_width='initi…"
      ]
     },
     "metadata": {},
     "output_type": "display_data"
    },
    {
     "data": {
      "application/vnd.jupyter.widget-view+json": {
       "model_id": "9e68b7b919c74fe8a1199ad2b46a2bf1",
       "version_major": 2,
       "version_minor": 0
      },
      "text/plain": [
       "HBox(children=(IntProgress(value=0, description='Redshifts', max=7, style=ProgressStyle(description_width='ini…"
      ]
     },
     "metadata": {},
     "output_type": "display_data"
    },
    {
     "data": {
      "application/vnd.jupyter.widget-view+json": {
       "model_id": "a22c2099c48f42a9968dab1c20aececa",
       "version_major": 2,
       "version_minor": 0
      },
      "text/plain": [
       "HBox(children=(IntProgress(value=0, description='Events', max=10, style=ProgressStyle(description_width='initi…"
      ]
     },
     "metadata": {},
     "output_type": "display_data"
    },
    {
     "data": {
      "application/vnd.jupyter.widget-view+json": {
       "model_id": "7b67eda6363e4820a23d686547915fd6",
       "version_major": 2,
       "version_minor": 0
      },
      "text/plain": [
       "HBox(children=(IntProgress(value=0, description='Events', max=10, style=ProgressStyle(description_width='initi…"
      ]
     },
     "metadata": {},
     "output_type": "display_data"
    },
    {
     "data": {
      "application/vnd.jupyter.widget-view+json": {
       "model_id": "ff183192c78c4a368055c4ab7ace772e",
       "version_major": 2,
       "version_minor": 0
      },
      "text/plain": [
       "HBox(children=(IntProgress(value=0, description='Events', max=10, style=ProgressStyle(description_width='initi…"
      ]
     },
     "metadata": {},
     "output_type": "display_data"
    },
    {
     "data": {
      "application/vnd.jupyter.widget-view+json": {
       "model_id": "58266956e57d4f1bae47f0678b4e7255",
       "version_major": 2,
       "version_minor": 0
      },
      "text/plain": [
       "HBox(children=(IntProgress(value=0, description='Events', max=10, style=ProgressStyle(description_width='initi…"
      ]
     },
     "metadata": {},
     "output_type": "display_data"
    },
    {
     "data": {
      "application/vnd.jupyter.widget-view+json": {
       "model_id": "50a2d73d2c7b4a73a6c915c20a11d28b",
       "version_major": 2,
       "version_minor": 0
      },
      "text/plain": [
       "HBox(children=(IntProgress(value=0, description='Events', max=10, style=ProgressStyle(description_width='initi…"
      ]
     },
     "metadata": {},
     "output_type": "display_data"
    },
    {
     "data": {
      "application/vnd.jupyter.widget-view+json": {
       "model_id": "980298849fa24354947d5034c7da0d83",
       "version_major": 2,
       "version_minor": 0
      },
      "text/plain": [
       "HBox(children=(IntProgress(value=0, description='Events', max=10, style=ProgressStyle(description_width='initi…"
      ]
     },
     "metadata": {},
     "output_type": "display_data"
    },
    {
     "data": {
      "application/vnd.jupyter.widget-view+json": {
       "model_id": "00e15e64c83a4bfe89b50bf45ab423ab",
       "version_major": 2,
       "version_minor": 0
      },
      "text/plain": [
       "HBox(children=(IntProgress(value=0, description='Events', max=10, style=ProgressStyle(description_width='initi…"
      ]
     },
     "metadata": {},
     "output_type": "display_data"
    },
    {
     "data": {
      "application/vnd.jupyter.widget-view+json": {
       "model_id": "d3ca39e2b2104ee6850ec45b00092376",
       "version_major": 2,
       "version_minor": 0
      },
      "text/plain": [
       "HBox(children=(IntProgress(value=0, description='Redshifts', max=7, style=ProgressStyle(description_width='ini…"
      ]
     },
     "metadata": {},
     "output_type": "display_data"
    },
    {
     "data": {
      "application/vnd.jupyter.widget-view+json": {
       "model_id": "454025438f84476fb9681d5e13c3d001",
       "version_major": 2,
       "version_minor": 0
      },
      "text/plain": [
       "HBox(children=(IntProgress(value=0, description='Events', max=10, style=ProgressStyle(description_width='initi…"
      ]
     },
     "metadata": {},
     "output_type": "display_data"
    },
    {
     "data": {
      "application/vnd.jupyter.widget-view+json": {
       "model_id": "b68b692b741f4bdda832d302aeaad1d9",
       "version_major": 2,
       "version_minor": 0
      },
      "text/plain": [
       "HBox(children=(IntProgress(value=0, description='Events', max=10, style=ProgressStyle(description_width='initi…"
      ]
     },
     "metadata": {},
     "output_type": "display_data"
    },
    {
     "data": {
      "application/vnd.jupyter.widget-view+json": {
       "model_id": "f4f46e16d3e64b39997e826375e69364",
       "version_major": 2,
       "version_minor": 0
      },
      "text/plain": [
       "HBox(children=(IntProgress(value=0, description='Events', max=10, style=ProgressStyle(description_width='initi…"
      ]
     },
     "metadata": {},
     "output_type": "display_data"
    },
    {
     "data": {
      "application/vnd.jupyter.widget-view+json": {
       "model_id": "28b902a32de741389de704491870e959",
       "version_major": 2,
       "version_minor": 0
      },
      "text/plain": [
       "HBox(children=(IntProgress(value=0, description='Events', max=10, style=ProgressStyle(description_width='initi…"
      ]
     },
     "metadata": {},
     "output_type": "display_data"
    },
    {
     "data": {
      "application/vnd.jupyter.widget-view+json": {
       "model_id": "aa2d60a6160e4d50806b9fd4e816975a",
       "version_major": 2,
       "version_minor": 0
      },
      "text/plain": [
       "HBox(children=(IntProgress(value=0, description='Events', max=10, style=ProgressStyle(description_width='initi…"
      ]
     },
     "metadata": {},
     "output_type": "display_data"
    },
    {
     "data": {
      "application/vnd.jupyter.widget-view+json": {
       "model_id": "b96825846e6a4f0b84b982f3c3b25190",
       "version_major": 2,
       "version_minor": 0
      },
      "text/plain": [
       "HBox(children=(IntProgress(value=0, description='Events', max=10, style=ProgressStyle(description_width='initi…"
      ]
     },
     "metadata": {},
     "output_type": "display_data"
    },
    {
     "data": {
      "application/vnd.jupyter.widget-view+json": {
       "model_id": "90ca2a3cb8a046f182700bde4dc1151a",
       "version_major": 2,
       "version_minor": 0
      },
      "text/plain": [
       "HBox(children=(IntProgress(value=0, description='Events', max=10, style=ProgressStyle(description_width='initi…"
      ]
     },
     "metadata": {},
     "output_type": "display_data"
    },
    {
     "data": {
      "application/vnd.jupyter.widget-view+json": {
       "model_id": "451a7ce272504a36a76fb7630c03c193",
       "version_major": 2,
       "version_minor": 0
      },
      "text/plain": [
       "HBox(children=(IntProgress(value=0, description='Redshifts', max=7, style=ProgressStyle(description_width='ini…"
      ]
     },
     "metadata": {},
     "output_type": "display_data"
    },
    {
     "data": {
      "application/vnd.jupyter.widget-view+json": {
       "model_id": "c07b119315244de8a31091b3764d424c",
       "version_major": 2,
       "version_minor": 0
      },
      "text/plain": [
       "HBox(children=(IntProgress(value=0, description='Events', max=10, style=ProgressStyle(description_width='initi…"
      ]
     },
     "metadata": {},
     "output_type": "display_data"
    },
    {
     "data": {
      "application/vnd.jupyter.widget-view+json": {
       "model_id": "4ad8ecb7c6ec4126a1544354f8bda2ea",
       "version_major": 2,
       "version_minor": 0
      },
      "text/plain": [
       "HBox(children=(IntProgress(value=0, description='Events', max=10, style=ProgressStyle(description_width='initi…"
      ]
     },
     "metadata": {},
     "output_type": "display_data"
    },
    {
     "data": {
      "application/vnd.jupyter.widget-view+json": {
       "model_id": "0e121068698846328fc2b1a22c55c4b3",
       "version_major": 2,
       "version_minor": 0
      },
      "text/plain": [
       "HBox(children=(IntProgress(value=0, description='Events', max=10, style=ProgressStyle(description_width='initi…"
      ]
     },
     "metadata": {},
     "output_type": "display_data"
    },
    {
     "data": {
      "application/vnd.jupyter.widget-view+json": {
       "model_id": "d2662b8bc6ca4b79aa476843b2ade00d",
       "version_major": 2,
       "version_minor": 0
      },
      "text/plain": [
       "HBox(children=(IntProgress(value=0, description='Events', max=10, style=ProgressStyle(description_width='initi…"
      ]
     },
     "metadata": {},
     "output_type": "display_data"
    },
    {
     "data": {
      "application/vnd.jupyter.widget-view+json": {
       "model_id": "58a9c1b3c858460ea004f724131922e8",
       "version_major": 2,
       "version_minor": 0
      },
      "text/plain": [
       "HBox(children=(IntProgress(value=0, description='Events', max=10, style=ProgressStyle(description_width='initi…"
      ]
     },
     "metadata": {},
     "output_type": "display_data"
    },
    {
     "data": {
      "application/vnd.jupyter.widget-view+json": {
       "model_id": "f6bc6b340c10430cb5121c89babc0487",
       "version_major": 2,
       "version_minor": 0
      },
      "text/plain": [
       "HBox(children=(IntProgress(value=0, description='Events', max=10, style=ProgressStyle(description_width='initi…"
      ]
     },
     "metadata": {},
     "output_type": "display_data"
    },
    {
     "data": {
      "application/vnd.jupyter.widget-view+json": {
       "model_id": "0158321bf0774b8bb3cce2a39a0f8780",
       "version_major": 2,
       "version_minor": 0
      },
      "text/plain": [
       "HBox(children=(IntProgress(value=0, description='Events', max=10, style=ProgressStyle(description_width='initi…"
      ]
     },
     "metadata": {},
     "output_type": "display_data"
    },
    {
     "data": {
      "application/vnd.jupyter.widget-view+json": {
       "model_id": "59f12b57a80a4894ada9ee0c08d9c50d",
       "version_major": 2,
       "version_minor": 0
      },
      "text/plain": [
       "HBox(children=(IntProgress(value=0, description='Redshifts', max=7, style=ProgressStyle(description_width='ini…"
      ]
     },
     "metadata": {},
     "output_type": "display_data"
    },
    {
     "data": {
      "application/vnd.jupyter.widget-view+json": {
       "model_id": "8120e2c43b8142a69a92962d893e9ef8",
       "version_major": 2,
       "version_minor": 0
      },
      "text/plain": [
       "HBox(children=(IntProgress(value=0, description='Events', max=10, style=ProgressStyle(description_width='initi…"
      ]
     },
     "metadata": {},
     "output_type": "display_data"
    },
    {
     "data": {
      "application/vnd.jupyter.widget-view+json": {
       "model_id": "e6fe07ff6db141d3aa83d696ed0a5023",
       "version_major": 2,
       "version_minor": 0
      },
      "text/plain": [
       "HBox(children=(IntProgress(value=0, description='Events', max=10, style=ProgressStyle(description_width='initi…"
      ]
     },
     "metadata": {},
     "output_type": "display_data"
    },
    {
     "data": {
      "application/vnd.jupyter.widget-view+json": {
       "model_id": "cb1de36939b4483ca2349008fd446e63",
       "version_major": 2,
       "version_minor": 0
      },
      "text/plain": [
       "HBox(children=(IntProgress(value=0, description='Events', max=10, style=ProgressStyle(description_width='initi…"
      ]
     },
     "metadata": {},
     "output_type": "display_data"
    },
    {
     "data": {
      "application/vnd.jupyter.widget-view+json": {
       "model_id": "9855a3b2f6c34f739b5c671295742dad",
       "version_major": 2,
       "version_minor": 0
      },
      "text/plain": [
       "HBox(children=(IntProgress(value=0, description='Events', max=10, style=ProgressStyle(description_width='initi…"
      ]
     },
     "metadata": {},
     "output_type": "display_data"
    },
    {
     "data": {
      "application/vnd.jupyter.widget-view+json": {
       "model_id": "0cfbd4f9078d42639d7f1a42d90f5bd0",
       "version_major": 2,
       "version_minor": 0
      },
      "text/plain": [
       "HBox(children=(IntProgress(value=0, description='Events', max=10, style=ProgressStyle(description_width='initi…"
      ]
     },
     "metadata": {},
     "output_type": "display_data"
    },
    {
     "data": {
      "application/vnd.jupyter.widget-view+json": {
       "model_id": "39052f5eb8c942b6a23d55e7990b1258",
       "version_major": 2,
       "version_minor": 0
      },
      "text/plain": [
       "HBox(children=(IntProgress(value=0, description='Events', max=10, style=ProgressStyle(description_width='initi…"
      ]
     },
     "metadata": {},
     "output_type": "display_data"
    },
    {
     "data": {
      "application/vnd.jupyter.widget-view+json": {
       "model_id": "affdfde15334415784f028c5cd3c8605",
       "version_major": 2,
       "version_minor": 0
      },
      "text/plain": [
       "HBox(children=(IntProgress(value=0, description='Events', max=10, style=ProgressStyle(description_width='initi…"
      ]
     },
     "metadata": {},
     "output_type": "display_data"
    },
    {
     "data": {
      "application/vnd.jupyter.widget-view+json": {
       "model_id": "c1d8accf941042ca80bb7e31481fc5f4",
       "version_major": 2,
       "version_minor": 0
      },
      "text/plain": [
       "HBox(children=(IntProgress(value=0, description='Redshifts', max=7, style=ProgressStyle(description_width='ini…"
      ]
     },
     "metadata": {},
     "output_type": "display_data"
    },
    {
     "data": {
      "application/vnd.jupyter.widget-view+json": {
       "model_id": "2e850dc30a104c9eb626cc640890854d",
       "version_major": 2,
       "version_minor": 0
      },
      "text/plain": [
       "HBox(children=(IntProgress(value=0, description='Events', max=10, style=ProgressStyle(description_width='initi…"
      ]
     },
     "metadata": {},
     "output_type": "display_data"
    },
    {
     "data": {
      "application/vnd.jupyter.widget-view+json": {
       "model_id": "0ac4a3945659464e8a73e3500092b2cf",
       "version_major": 2,
       "version_minor": 0
      },
      "text/plain": [
       "HBox(children=(IntProgress(value=0, description='Events', max=10, style=ProgressStyle(description_width='initi…"
      ]
     },
     "metadata": {},
     "output_type": "display_data"
    },
    {
     "data": {
      "application/vnd.jupyter.widget-view+json": {
       "model_id": "2209338c803a43ab875015deac1eeade",
       "version_major": 2,
       "version_minor": 0
      },
      "text/plain": [
       "HBox(children=(IntProgress(value=0, description='Events', max=10, style=ProgressStyle(description_width='initi…"
      ]
     },
     "metadata": {},
     "output_type": "display_data"
    },
    {
     "data": {
      "application/vnd.jupyter.widget-view+json": {
       "model_id": "9b4532b8f9db42f1b771cc3cd2d099be",
       "version_major": 2,
       "version_minor": 0
      },
      "text/plain": [
       "HBox(children=(IntProgress(value=0, description='Events', max=10, style=ProgressStyle(description_width='initi…"
      ]
     },
     "metadata": {},
     "output_type": "display_data"
    },
    {
     "data": {
      "application/vnd.jupyter.widget-view+json": {
       "model_id": "f90f92cd830f448cad48427e3b425966",
       "version_major": 2,
       "version_minor": 0
      },
      "text/plain": [
       "HBox(children=(IntProgress(value=0, description='Events', max=10, style=ProgressStyle(description_width='initi…"
      ]
     },
     "metadata": {},
     "output_type": "display_data"
    },
    {
     "data": {
      "application/vnd.jupyter.widget-view+json": {
       "model_id": "13b1ef3be73447f68c7c7815b45c680d",
       "version_major": 2,
       "version_minor": 0
      },
      "text/plain": [
       "HBox(children=(IntProgress(value=0, description='Events', max=10, style=ProgressStyle(description_width='initi…"
      ]
     },
     "metadata": {},
     "output_type": "display_data"
    },
    {
     "data": {
      "application/vnd.jupyter.widget-view+json": {
       "model_id": "1f3a83e18b924322adb4f89f92cbbaf1",
       "version_major": 2,
       "version_minor": 0
      },
      "text/plain": [
       "HBox(children=(IntProgress(value=0, description='Events', max=10, style=ProgressStyle(description_width='initi…"
      ]
     },
     "metadata": {},
     "output_type": "display_data"
    },
    {
     "data": {
      "application/vnd.jupyter.widget-view+json": {
       "model_id": "e5c440e8d0624674bf6f0f3fd0934ca6",
       "version_major": 2,
       "version_minor": 0
      },
      "text/plain": [
       "HBox(children=(IntProgress(value=0, description='Redshifts', max=7, style=ProgressStyle(description_width='ini…"
      ]
     },
     "metadata": {},
     "output_type": "display_data"
    },
    {
     "data": {
      "application/vnd.jupyter.widget-view+json": {
       "model_id": "09a6bd6f32c045bd9a7884e0b5f6140d",
       "version_major": 2,
       "version_minor": 0
      },
      "text/plain": [
       "HBox(children=(IntProgress(value=0, description='Events', max=10, style=ProgressStyle(description_width='initi…"
      ]
     },
     "metadata": {},
     "output_type": "display_data"
    },
    {
     "data": {
      "application/vnd.jupyter.widget-view+json": {
       "model_id": "a839d7be672a4aee85867be4a745739e",
       "version_major": 2,
       "version_minor": 0
      },
      "text/plain": [
       "HBox(children=(IntProgress(value=0, description='Events', max=10, style=ProgressStyle(description_width='initi…"
      ]
     },
     "metadata": {},
     "output_type": "display_data"
    },
    {
     "data": {
      "application/vnd.jupyter.widget-view+json": {
       "model_id": "dbab07f887ae418f8144b56ebcc9bd89",
       "version_major": 2,
       "version_minor": 0
      },
      "text/plain": [
       "HBox(children=(IntProgress(value=0, description='Events', max=10, style=ProgressStyle(description_width='initi…"
      ]
     },
     "metadata": {},
     "output_type": "display_data"
    },
    {
     "data": {
      "application/vnd.jupyter.widget-view+json": {
       "model_id": "c88e156f12a44e41b83025e1358f9609",
       "version_major": 2,
       "version_minor": 0
      },
      "text/plain": [
       "HBox(children=(IntProgress(value=0, description='Events', max=10, style=ProgressStyle(description_width='initi…"
      ]
     },
     "metadata": {},
     "output_type": "display_data"
    },
    {
     "data": {
      "application/vnd.jupyter.widget-view+json": {
       "model_id": "8fe711376fc342c199e0fd292ff99816",
       "version_major": 2,
       "version_minor": 0
      },
      "text/plain": [
       "HBox(children=(IntProgress(value=0, description='Events', max=10, style=ProgressStyle(description_width='initi…"
      ]
     },
     "metadata": {},
     "output_type": "display_data"
    },
    {
     "data": {
      "application/vnd.jupyter.widget-view+json": {
       "model_id": "1b0e7652eb9a400d8593ca96a47d0293",
       "version_major": 2,
       "version_minor": 0
      },
      "text/plain": [
       "HBox(children=(IntProgress(value=0, description='Events', max=10, style=ProgressStyle(description_width='initi…"
      ]
     },
     "metadata": {},
     "output_type": "display_data"
    },
    {
     "data": {
      "application/vnd.jupyter.widget-view+json": {
       "model_id": "5c9f6cbb9d3a445a8b2cfaa5b63fd51e",
       "version_major": 2,
       "version_minor": 0
      },
      "text/plain": [
       "HBox(children=(IntProgress(value=0, description='Events', max=10, style=ProgressStyle(description_width='initi…"
      ]
     },
     "metadata": {},
     "output_type": "display_data"
    },
    {
     "data": {
      "application/vnd.jupyter.widget-view+json": {
       "model_id": "22d49ac1b1cb4b448c7d2f73735fdc3d",
       "version_major": 2,
       "version_minor": 0
      },
      "text/plain": [
       "HBox(children=(IntProgress(value=0, description='Redshifts', max=7, style=ProgressStyle(description_width='ini…"
      ]
     },
     "metadata": {},
     "output_type": "display_data"
    },
    {
     "data": {
      "application/vnd.jupyter.widget-view+json": {
       "model_id": "2bba1c67dfd942198be52e22e8cf271d",
       "version_major": 2,
       "version_minor": 0
      },
      "text/plain": [
       "HBox(children=(IntProgress(value=0, description='Events', max=10, style=ProgressStyle(description_width='initi…"
      ]
     },
     "metadata": {},
     "output_type": "display_data"
    },
    {
     "data": {
      "application/vnd.jupyter.widget-view+json": {
       "model_id": "45e2e9fed90749cd8086ba4b55b7eaab",
       "version_major": 2,
       "version_minor": 0
      },
      "text/plain": [
       "HBox(children=(IntProgress(value=0, description='Events', max=10, style=ProgressStyle(description_width='initi…"
      ]
     },
     "metadata": {},
     "output_type": "display_data"
    },
    {
     "data": {
      "application/vnd.jupyter.widget-view+json": {
       "model_id": "07059d98eece47b2a6d4c79e7e779a71",
       "version_major": 2,
       "version_minor": 0
      },
      "text/plain": [
       "HBox(children=(IntProgress(value=0, description='Events', max=10, style=ProgressStyle(description_width='initi…"
      ]
     },
     "metadata": {},
     "output_type": "display_data"
    },
    {
     "data": {
      "application/vnd.jupyter.widget-view+json": {
       "model_id": "c683c38823904203beb6ea5291b781a6",
       "version_major": 2,
       "version_minor": 0
      },
      "text/plain": [
       "HBox(children=(IntProgress(value=0, description='Events', max=10, style=ProgressStyle(description_width='initi…"
      ]
     },
     "metadata": {},
     "output_type": "display_data"
    },
    {
     "data": {
      "application/vnd.jupyter.widget-view+json": {
       "model_id": "4bdb54cbf7934ba282493fca826f05a1",
       "version_major": 2,
       "version_minor": 0
      },
      "text/plain": [
       "HBox(children=(IntProgress(value=0, description='Events', max=10, style=ProgressStyle(description_width='initi…"
      ]
     },
     "metadata": {},
     "output_type": "display_data"
    },
    {
     "data": {
      "application/vnd.jupyter.widget-view+json": {
       "model_id": "bc1a65aea55f4546a46b46a0106e0566",
       "version_major": 2,
       "version_minor": 0
      },
      "text/plain": [
       "HBox(children=(IntProgress(value=0, description='Events', max=10, style=ProgressStyle(description_width='initi…"
      ]
     },
     "metadata": {},
     "output_type": "display_data"
    },
    {
     "data": {
      "application/vnd.jupyter.widget-view+json": {
       "model_id": "e1f9943be1ef4886bf7a8b976e26df56",
       "version_major": 2,
       "version_minor": 0
      },
      "text/plain": [
       "HBox(children=(IntProgress(value=0, description='Events', max=10, style=ProgressStyle(description_width='initi…"
      ]
     },
     "metadata": {},
     "output_type": "display_data"
    },
    {
     "data": {
      "application/vnd.jupyter.widget-view+json": {
       "model_id": "1d07acb14299483d9e8a3bc248a3a1c7",
       "version_major": 2,
       "version_minor": 0
      },
      "text/plain": [
       "HBox(children=(IntProgress(value=0, description='Redshifts', max=7, style=ProgressStyle(description_width='ini…"
      ]
     },
     "metadata": {},
     "output_type": "display_data"
    },
    {
     "data": {
      "application/vnd.jupyter.widget-view+json": {
       "model_id": "04c6313dccac4f20ad1c3358237a21b1",
       "version_major": 2,
       "version_minor": 0
      },
      "text/plain": [
       "HBox(children=(IntProgress(value=0, description='Events', max=10, style=ProgressStyle(description_width='initi…"
      ]
     },
     "metadata": {},
     "output_type": "display_data"
    },
    {
     "data": {
      "application/vnd.jupyter.widget-view+json": {
       "model_id": "94dd2aff3903431a9062d548e44b749e",
       "version_major": 2,
       "version_minor": 0
      },
      "text/plain": [
       "HBox(children=(IntProgress(value=0, description='Events', max=10, style=ProgressStyle(description_width='initi…"
      ]
     },
     "metadata": {},
     "output_type": "display_data"
    },
    {
     "data": {
      "application/vnd.jupyter.widget-view+json": {
       "model_id": "0d1ce5730537499a8d479c71e4b74e9b",
       "version_major": 2,
       "version_minor": 0
      },
      "text/plain": [
       "HBox(children=(IntProgress(value=0, description='Events', max=10, style=ProgressStyle(description_width='initi…"
      ]
     },
     "metadata": {},
     "output_type": "display_data"
    },
    {
     "data": {
      "application/vnd.jupyter.widget-view+json": {
       "model_id": "06be265e827a49d6923ff67cdbf26c30",
       "version_major": 2,
       "version_minor": 0
      },
      "text/plain": [
       "HBox(children=(IntProgress(value=0, description='Events', max=10, style=ProgressStyle(description_width='initi…"
      ]
     },
     "metadata": {},
     "output_type": "display_data"
    },
    {
     "data": {
      "application/vnd.jupyter.widget-view+json": {
       "model_id": "2f4942f16f5740bc972c1b2b209a9500",
       "version_major": 2,
       "version_minor": 0
      },
      "text/plain": [
       "HBox(children=(IntProgress(value=0, description='Events', max=10, style=ProgressStyle(description_width='initi…"
      ]
     },
     "metadata": {},
     "output_type": "display_data"
    },
    {
     "data": {
      "application/vnd.jupyter.widget-view+json": {
       "model_id": "676293e23766452b8160620a9578f89c",
       "version_major": 2,
       "version_minor": 0
      },
      "text/plain": [
       "HBox(children=(IntProgress(value=0, description='Events', max=10, style=ProgressStyle(description_width='initi…"
      ]
     },
     "metadata": {},
     "output_type": "display_data"
    },
    {
     "data": {
      "application/vnd.jupyter.widget-view+json": {
       "model_id": "786f1504ac06496397d15854887acdb2",
       "version_major": 2,
       "version_minor": 0
      },
      "text/plain": [
       "HBox(children=(IntProgress(value=0, description='Events', max=10, style=ProgressStyle(description_width='initi…"
      ]
     },
     "metadata": {},
     "output_type": "display_data"
    },
    {
     "name": "stdout",
     "output_type": "stream",
     "text": [
      "\n"
     ]
    }
   ],
   "source": [
    "Nobs = len(postsamples.values())\n",
    "\n",
    "logevs = {}\n",
    "for k, c in tqdm_notebook(clusters.items(), desc=\"Clusters\"):\n",
    "    for l in tqdm_notebook(lams, desc=\"Redshifts\"):\n",
    "        mu, Neff = mean_pdets[(k,l)]\n",
    "        pm1m2z = make_pm1m2z(c['m1'], c['m2'], l, zMax)\n",
    "        log_ev = 0.0\n",
    "        for e in tqdm_notebook(postsamples.values(), desc=\"Events\"):\n",
    "            log_ev += log(mean(pm1m2z(*e)/p_pe(*e)))\n",
    "        logevs[(k,l)] = log_ev - Nobs*log(mu) + (3*Nobs + Nobs*Nobs)/(2*Neff)"
   ]
  },
  {
   "cell_type": "markdown",
   "metadata": {},
   "source": [
    "Evidence values are not defined on an absolute scale, but only up to a constant.  Here we normalize the evidence values so that the integral over $\\alpha$ and $\\lambda$ is one (thus one can interpret a plot of the evidence values versus $\\alpha$ and $\\lambda$ as a *density* or PDF for $\\alpha, \\lambda$).  We first re-scale by the largest evidence value (to avoid overflow in the exponential), and then do a trapezoidal integral."
   ]
  },
  {
   "cell_type": "code",
   "execution_count": 15,
   "metadata": {},
   "outputs": [],
   "source": [
    "raw_logevs = logevs.copy()\n",
    "\n",
    "Zm = max(*logevs.values())\n",
    "for k in logevs.keys():\n",
    "    logevs[k] = logevs[k] - Zm"
   ]
  },
  {
   "cell_type": "code",
   "execution_count": 16,
   "metadata": {},
   "outputs": [],
   "source": [
    "al = []\n",
    "la = []\n",
    "ev = []\n",
    "for a in clusters.keys():\n",
    "    for l in lams:\n",
    "        al.append(a)\n",
    "        la.append(l)\n",
    "        ev.append(logevs[(a,l)])\n",
    "al = array(al).reshape((len(clusters), len(lams)))\n",
    "la = array(la).reshape((len(clusters), len(lams)))\n",
    "ev = array(ev).reshape((len(clusters), len(lams)))\n",
    "\n",
    "Ztot = trapz(trapz(exp(ev), la, axis=1), al[:,0])\n",
    "ev = ev - log(Ztot)\n",
    "for k in logevs.keys():\n",
    "    logevs[k] = logevs[k] - log(Ztot)"
   ]
  },
  {
   "cell_type": "code",
   "execution_count": 17,
   "metadata": {},
   "outputs": [
    {
     "data": {
      "image/png": "[encoded data removed]",
      "text/plain": [
       "<Figure size 242.267x242.267 with 4 Axes>"
      ]
     },
     "metadata": {
      "image/png": {
       "height": 232,
       "width": 235
      },
      "needs_background": "light"
     },
     "output_type": "display_data"
    }
   ],
   "source": [
    "with sns.plotting_context('paper'):\n",
    "    orig_tex = plt.rcParams['text.usetex']\n",
    "    plt.rcParams['text.usetex'] = True\n",
    "    try:\n",
    "        f, ax = plt.subplots(figsize=(colwidth,colwidth))\n",
    "\n",
    "        cs = ax.contourf(al, la, exp(ev), cmap='viridis')\n",
    "        ax.set_xlabel(r'$\\alpha$')\n",
    "        ax.set_ylabel(r'$\\lambda$')\n",
    "        plt.colorbar(cs, ax=ax)\n",
    "        \n",
    "        ax.set_xticks([1.5, 2, 2.5, 3, 3.5])\n",
    "        ax.set_yticks([0, 1, 2, 3, 4, 5, 6])\n",
    "        \n",
    "        ax.set_xlim(1.5, 3.5)\n",
    "        ax.set_ylim(0, 6)\n",
    "\n",
    "        gs = make_axes_locatable(ax)\n",
    "\n",
    "        alpha_pdf = gs.append_axes('top', 0.5, pad = 0.3, sharex=ax)\n",
    "        lambda_pdf = gs.append_axes('right', 0.5, pad = 0.3, sharey=ax)\n",
    "\n",
    "        alpha_pdf.plot(al[:,0], trapz(exp(ev), la, axis=1))\n",
    "        alpha_pdf.set_ylabel(r'$p(\\alpha)$')\n",
    "\n",
    "        lambda_pdf.plot(trapz(exp(ev), al[:,0], axis=0), la[0,:])\n",
    "        lambda_pdf.set_xlabel(r'$p(\\lambda)$')\n",
    "        lambda_pdf.set_xlim((0, None))\n",
    "\n",
    "        tight_layout()\n",
    "        savefig('alpha-lambda.pdf')\n",
    "    finally:\n",
    "        plt.rcParams['text.usetex'] = orig_tex"
   ]
  },
  {
   "cell_type": "markdown",
   "metadata": {},
   "source": [
    "We want to report the 68% credible region of $\\alpha$ marginalized over $\\lambda$."
   ]
  },
  {
   "cell_type": "code",
   "execution_count": 18,
   "metadata": {},
   "outputs": [
    {
     "name": "stdout",
     "output_type": "stream",
     "text": [
      "68% range of alpha is 2.1 to 2.8\n",
      "alpha = 2.35 + 0.45 - 0.22\n"
     ]
    }
   ],
   "source": [
    "alpha_pdf = trapz(exp(ev), la, axis=1)\n",
    "alpha_cdf = cumtrapz(alpha_pdf, al[:,0], initial=0)\n",
    "alpha_icdf_interp = interp1d(alpha_cdf / alpha_cdf[-1], al[:,0])\n",
    "\n",
    "l = alpha_icdf_interp(0.16)\n",
    "h = alpha_icdf_interp(0.84)\n",
    "m = al[argmax(alpha_pdf), 0]\n",
    "\n",
    "print('68% range of alpha is {:.1f} to {:.1f}'.format(l, h))\n",
    "print('alpha = {:.2f} + {:.2f} - {:.2f}'.format(m, h-m, m-l))"
   ]
  },
  {
   "cell_type": "markdown",
   "metadata": {},
   "source": [
    "We need to compare *observed* properties to predictions for the *observed* properties from the models.  Here is (one way) we can do this.\n",
    "\n",
    "We choose to compare in the space of total mass.  We begin by drawing samples from the PE *likelihood* in total mass (i.e. we un-weight the PE samples from the prior).  Then we draw sets of 10 *detected* samples in total mass from each of the mass models; for each *detected* sample in total mass, we choose the likelihood whose median is closest to the total mass, and scatter the detected mass by the width of that likelihood function.  We plot the distributions so obtained against random draws from the likelihoods and compare."
   ]
  },
  {
   "cell_type": "code",
   "execution_count": 21,
   "metadata": {},
   "outputs": [
    {
     "data": {
      "application/vnd.jupyter.widget-view+json": {
       "model_id": "fa35cba9538c4e869a35b56db8829473",
       "version_major": 2,
       "version_minor": 0
      },
      "text/plain": [
       "HBox(children=(IntProgress(value=0), HTML(value='')))"
      ]
     },
     "metadata": {},
     "output_type": "display_data"
    },
    {
     "name": "stdout",
     "output_type": "stream",
     "text": [
      "\n"
     ]
    },
    {
     "data": {
      "application/vnd.jupyter.widget-view+json": {
       "model_id": "40b49e3eea994c68903ed01343e96f39",
       "version_major": 2,
       "version_minor": 0
      },
      "text/plain": [
       "HBox(children=(IntProgress(value=0, description='MMax', max=3, style=ProgressStyle(description_width='initial'…"
      ]
     },
     "metadata": {},
     "output_type": "display_data"
    },
    {
     "data": {
      "application/vnd.jupyter.widget-view+json": {
       "model_id": "98a19514ab44424f9c260f26674dfec8",
       "version_major": 2,
       "version_minor": 0
      },
      "text/plain": [
       "HBox(children=(IntProgress(value=0, description='Draws', style=ProgressStyle(description_width='initial')), HT…"
      ]
     },
     "metadata": {},
     "output_type": "display_data"
    },
    {
     "data": {
      "application/vnd.jupyter.widget-view+json": {
       "model_id": "fba0acd311d1488ba75d03f9d5fdd761",
       "version_major": 2,
       "version_minor": 0
      },
      "text/plain": [
       "HBox(children=(IntProgress(value=0, description='Draws', style=ProgressStyle(description_width='initial')), HT…"
      ]
     },
     "metadata": {},
     "output_type": "display_data"
    },
    {
     "data": {
      "application/vnd.jupyter.widget-view+json": {
       "model_id": "92e4fbceeb734aec9a2fcd6b821476f7",
       "version_major": 2,
       "version_minor": 0
      },
      "text/plain": [
       "HBox(children=(IntProgress(value=0, description='Draws', style=ProgressStyle(description_width='initial')), HT…"
      ]
     },
     "metadata": {},
     "output_type": "display_data"
    },
    {
     "name": "stdout",
     "output_type": "stream",
     "text": [
      "\n"
     ]
    }
   ],
   "source": [
    "Ndraw = 100\n",
    "\n",
    "# Specialize to following the SFR (this is preferred a bit by our fits, but not massively)\n",
    "lam = 3\n",
    "alph = 2.5\n",
    "\n",
    "zs = expm1(linspace(log(1), log(1+zMax), 100))\n",
    "pzs = Planck15.differential_comoving_volume(zs).to(u.Gpc**3/u.sr).value*(1+zs)**(lam-1)\n",
    "pzs /= trapz(pzs, zs)\n",
    "czs = cumtrapz(pzs, zs, initial=0)\n",
    "izcdf = interp1d(czs, zs)\n",
    "zcdf = interp1d(zs, czs)\n",
    "\n",
    "snr_thresh = 8\n",
    "\n",
    "cluster_weights = [1.0/p_pe(*p)/np.sum(1/p_pe(*p)) for p in postsamples.values()]\n",
    "\n",
    "mt_medians = []\n",
    "for wt, ps in zip(cluster_weights, postsamples.values()):\n",
    "    n = len(ps[0])\n",
    "    inds = random.choice(n, size=1000, p=wt)\n",
    "    mt_medians.append(median(ps[0][inds]+ps[1][inds]))\n",
    "\n",
    "obs_draws = []\n",
    "for i in tqdm_notebook(range(Ndraw)):\n",
    "    draws = [random.choice(p[0]+p[1], p=wt) for p, wt in zip(postsamples.values(), cluster_weights)]\n",
    "    obs_draws.append(draws)\n",
    "\n",
    "Nc = len(clusters.values())\n",
    "\n",
    "MMaxs = [40, 45, 50]\n",
    "cluster_draws = []\n",
    "for MM in tqdm_notebook(MMaxs, desc='MMax'):\n",
    "    c = loadtxt('Clusters_MMax_{:d}/small_cluster_2.35.dat'.format(MM), dtype=np.dtype([('m1', np.float), ('m2', np.float), ('a', np.float), ('e', np.float), ('tgw', np.float)]))\n",
    "    c = c[c['tgw'] < 1e10]\n",
    "    mts = []\n",
    "    for i in tqdm_notebook(range(Ndraw), desc=\"Draws\"):\n",
    "        mt_det = []\n",
    "        while len(mt_det) < len(postsamples.values()):\n",
    "            i = randint(len(c['m1']))\n",
    "            m1 = c['m1'][i]\n",
    "            m2 = c['m2'][i]\n",
    "            z = izcdf(rand())\n",
    "\n",
    "            rho = random.choice(vt.thetas)*optimal_snr(m1, m2, z) + randn()\n",
    "\n",
    "            if rho > snr_thresh:\n",
    "                mt_det.append(m1+m2)\n",
    "        mt_obs = []\n",
    "        for mt in mt_det:\n",
    "            i = argmin(abs(mt_medians - mt))\n",
    "            p = list(postsamples.values())[i]\n",
    "            mt_obs.append(mt + random.choice(p[0]+p[1]) - random.choice(p[0]+p[1]))\n",
    "\n",
    "        mts.append(mt_obs)\n",
    "    cluster_draws.append(mts)"
   ]
  },
  {
   "cell_type": "code",
   "execution_count": 25,
   "metadata": {},
   "outputs": [
    {
     "data": {
      "image/png": "[encoded data removed]",
      "text/plain": [
       "<Figure size 242.267x242.267 with 1 Axes>"
      ]
     },
     "metadata": {
      "image/png": {
       "height": 232,
       "width": 233
      },
      "needs_background": "light"
     },
     "output_type": "display_data"
    }
   ],
   "source": [
    "ms = exp(linspace(log(1), log(100), 100))\n",
    "\n",
    "pal = sns.color_palette(palette='colorblind', n_colors=len(clusters))\n",
    "\n",
    "obs_ps = []\n",
    "for od in obs_draws:\n",
    "    obs_ps.append(gaussian_kde(od)(ms))\n",
    "obs_ps = array(obs_ps)\n",
    "\n",
    "with sns.plotting_context('paper'):\n",
    "    orig_rc = plt.rcParams['text.usetex']\n",
    "    plt.rcParams['text.usetex'] = True\n",
    "    try:\n",
    "        figure(figsize=(colwidth,colwidth))\n",
    "        plot(ms, median(obs_ps, axis=0), color='k', label='Observations', alpha=0.5)\n",
    "\n",
    "        for i, (mm, cd) in enumerate(zip(MMaxs, cluster_draws)):\n",
    "            cps = []\n",
    "            for d in cd:\n",
    "                cps.append(gaussian_kde(d)(ms))\n",
    "            cps = array(cps)\n",
    "\n",
    "            l, = plot(ms, median(cps, axis=0), label=r'$M_\\mathrm{{Max}} = {:d} \\, M_\\odot$'.format(mm), color=pal[i])\n",
    "            fill_between(ms, percentile(cps, 84, axis=0), percentile(cps, 16, axis=0), color=l.get_color(), alpha=0.25)\n",
    "\n",
    "        legend(loc='upper right')\n",
    "        xlabel(r'$M$ ($M_\\odot$)')\n",
    "        ylabel(r'$p(M)$')\n",
    "\n",
    "        tight_layout()\n",
    "\n",
    "        savefig('M-pred.pdf')\n",
    "    finally:\n",
    "        plt.rcParams['text.usetex'] = orig_rc"
   ]
  },
  {
   "cell_type": "code",
   "execution_count": 32,
   "metadata": {},
   "outputs": [],
   "source": [
    "!open M-pred.pdf"
   ]
  },
  {
   "cell_type": "code",
   "execution_count": null,
   "metadata": {},
   "outputs": [],
   "source": []
  }
 ],
 "metadata": {
  "kernelspec": {
   "display_name": "Python 3",
   "language": "python",
   "name": "python3"
  },
  "language_info": {
   "codemirror_mode": {
    "name": "ipython",
    "version": 3
   },
   "file_extension": ".py",
   "mimetype": "text/x-python",
   "name": "python",
   "nbconvert_exporter": "python",
   "pygments_lexer": "ipython3",
   "version": "3.7.3"
  }
 },
 "nbformat": 4,
 "nbformat_minor": 2
}
